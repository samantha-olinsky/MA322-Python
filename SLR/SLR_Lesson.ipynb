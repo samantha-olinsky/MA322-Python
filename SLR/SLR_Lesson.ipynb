{
  "nbformat": 4,
  "nbformat_minor": 0,
  "metadata": {
    "colab": {
      "name": "SLR-Lesson.ipynb",
      "provenance": [],
      "collapsed_sections": [],
      "authorship_tag": "ABX9TyOA1OvBZ0J6+7Yg40IxmOJ5",
      "include_colab_link": true
    },
    "kernelspec": {
      "name": "python3",
      "display_name": "Python 3"
    }
  },
  "cells": [
    {
      "cell_type": "markdown",
      "metadata": {
        "id": "view-in-github",
        "colab_type": "text"
      },
      "source": [
        "<a href=\"https://colab.research.google.com/github/samantha-olinsky/MA322-Python/blob/main/SLR/SLR_Lesson.ipynb\" target=\"_parent\"><img src=\"https://colab.research.google.com/assets/colab-badge.svg\" alt=\"Open In Colab\"/></a>"
      ]
    },
    {
      "cell_type": "markdown",
      "metadata": {
        "id": "KQ4a5mlL35Hy"
      },
      "source": [
        "# Review of EDA\n",
        "Used cars dataset and cosmetic sales dataset."
      ]
    },
    {
      "cell_type": "code",
      "metadata": {
        "id": "aHIGjE4JCxwn",
        "outputId": "63082cfe-c67b-43e0-a220-645e54613ad2",
        "colab": {
          "base_uri": "https://localhost:8080/"
        }
      },
      "source": [
        "# we always need to import the necessary packages we'll need\n",
        "import pandas as pd\n",
        "import matplotlib.pyplot as plt\n",
        "\n",
        "uc = pd.read_csv('https://raw.githubusercontent.com/mlhwang/ma322/master/usedcars.csv')\n",
        "cos = pd.read_csv('https://raw.githubusercontent.com/mlhwang/ma322/master/cosmetic_sales.csv')\n",
        "\n",
        "\n",
        "# double check by printing the dataframe\n",
        "print(uc)"
      ],
      "execution_count": null,
      "outputs": [
        {
          "output_type": "stream",
          "text": [
            "     year model  price  mileage   color transmission\n",
            "0    2011   SEL  21992     7413  Yellow         AUTO\n",
            "1    2011   SEL  20995    10926    Gray         AUTO\n",
            "2    2011   SEL  19995     7351  Silver         AUTO\n",
            "3    2011   SEL  17809    11613    Gray         AUTO\n",
            "4    2012    SE  17500     8367   White         AUTO\n",
            "..    ...   ...    ...      ...     ...          ...\n",
            "145  2006   SES   6200    95000  Silver         AUTO\n",
            "146  2002    SE   5995    87003     Red         AUTO\n",
            "147  2000    SE   5980    96841     Red         AUTO\n",
            "148  2001    SE   4899   151479  Yellow         AUTO\n",
            "149  2000    SE   3800   109259     Red         AUTO\n",
            "\n",
            "[150 rows x 6 columns]\n"
          ],
          "name": "stdout"
        }
      ]
    },
    {
      "cell_type": "code",
      "metadata": {
        "id": "NIkvf63Ofm8T",
        "outputId": "d1141910-9e21-47e2-f091-382dc3966aa7",
        "colab": {
          "base_uri": "https://localhost:8080/"
        }
      },
      "source": [
        "print(uc.info())"
      ],
      "execution_count": null,
      "outputs": [
        {
          "output_type": "stream",
          "text": [
            "<class 'pandas.core.frame.DataFrame'>\n",
            "RangeIndex: 150 entries, 0 to 149\n",
            "Data columns (total 6 columns):\n",
            " #   Column        Non-Null Count  Dtype \n",
            "---  ------        --------------  ----- \n",
            " 0   year          150 non-null    int64 \n",
            " 1   model         150 non-null    object\n",
            " 2   price         150 non-null    int64 \n",
            " 3   mileage       150 non-null    int64 \n",
            " 4   color         150 non-null    object\n",
            " 5   transmission  150 non-null    object\n",
            "dtypes: int64(3), object(3)\n",
            "memory usage: 7.2+ KB\n",
            "None\n"
          ],
          "name": "stdout"
        }
      ]
    },
    {
      "cell_type": "code",
      "metadata": {
        "id": "5r1A8QRJFxCf"
      },
      "source": [
        "# in the USED CAR dataset \"uc\",\n",
        "# how many observations/examples?\n",
        "# what does each example represent?\n",
        "# how many variables/features?"
      ],
      "execution_count": null,
      "outputs": []
    },
    {
      "cell_type": "code",
      "metadata": {
        "id": "RuN5Swaqfhi4",
        "outputId": "6b64516d-6e30-4755-84d3-4c4d181373bb",
        "colab": {
          "base_uri": "https://localhost:8080/"
        }
      },
      "source": [
        "print(cos)"
      ],
      "execution_count": null,
      "outputs": [
        {
          "output_type": "stream",
          "text": [
            "     salesperson  year     month  ... units_sold order_amount  cost\n",
            "0          Betsy  2004     April  ...          8          288   227\n",
            "1       Hallagan  2004     March  ...        151          448   320\n",
            "2         Ashley  2005  February  ...        416          402   347\n",
            "3       Hallagan  2006       May  ...        202          650   561\n",
            "4          Zaret  2004      June  ...        167          347   219\n",
            "...          ...   ...       ...  ...        ...          ...   ...\n",
            "1886      Ashley  2005  February  ...         95          435   281\n",
            "1887     Colleen  2005  November  ...        114          514   404\n",
            "1888       Zaret  2004   January  ...        202          659   546\n",
            "1889    Hallagan  2006  November  ...        482          410   354\n",
            "1890    Cristina  2006      June  ...        225          463   382\n",
            "\n",
            "[1891 rows x 8 columns]\n"
          ],
          "name": "stdout"
        }
      ]
    },
    {
      "cell_type": "code",
      "metadata": {
        "id": "B37XNJhjfjXK",
        "outputId": "2f39a58a-ba29-49f8-cf07-de8886a285b3",
        "colab": {
          "base_uri": "https://localhost:8080/"
        }
      },
      "source": [
        "print(cos.info())"
      ],
      "execution_count": null,
      "outputs": [
        {
          "output_type": "stream",
          "text": [
            "<class 'pandas.core.frame.DataFrame'>\n",
            "RangeIndex: 1891 entries, 0 to 1890\n",
            "Data columns (total 8 columns):\n",
            " #   Column        Non-Null Count  Dtype \n",
            "---  ------        --------------  ----- \n",
            " 0   salesperson   1891 non-null   object\n",
            " 1   year          1891 non-null   int64 \n",
            " 2   month         1891 non-null   object\n",
            " 3   dept          1891 non-null   object\n",
            " 4   location      1891 non-null   object\n",
            " 5   units_sold    1891 non-null   int64 \n",
            " 6   order_amount  1891 non-null   int64 \n",
            " 7   cost          1891 non-null   int64 \n",
            "dtypes: int64(4), object(4)\n",
            "memory usage: 118.3+ KB\n",
            "None\n"
          ],
          "name": "stdout"
        }
      ]
    },
    {
      "cell_type": "code",
      "metadata": {
        "id": "h5t3XrIhfxDz"
      },
      "source": [
        "# in the COSMETIC SALES data set \"cos\",\n",
        "# how many observations/examples?\n",
        "# what does each example represent?\n",
        "# how many variables/features?"
      ],
      "execution_count": null,
      "outputs": []
    },
    {
      "cell_type": "code",
      "metadata": {
        "id": "InTyR7YgEdWu",
        "outputId": "7bdc84d6-891c-4190-f619-6f9260d8fcdb",
        "colab": {
          "base_uri": "https://localhost:8080/"
        }
      },
      "source": [
        "# two way cross tabulated table (aka table with two rows)\n",
        "# fancy way of saying a frequency table :)\n",
        "\n",
        "freq_trans_color = pd.crosstab(index=uc[\"transmission\"], columns=uc[\"color\"])\n",
        "print(freq_trans_color)"
      ],
      "execution_count": null,
      "outputs": [
        {
          "output_type": "stream",
          "text": [
            "color         Black  Blue  Gold  Gray  Green  Red  Silver  White  Yellow\n",
            "transmission                                                            \n",
            "AUTO             26    17     1    14      4   24      28     12       2\n",
            "MANUAL            9     0     0     2      1    1       4      4       1\n"
          ],
          "name": "stdout"
        }
      ]
    },
    {
      "cell_type": "code",
      "metadata": {
        "id": "QIUx3qaaJcEE",
        "outputId": "52419452-828b-4d26-f885-7f18daa55c44",
        "colab": {
          "base_uri": "https://localhost:8080/"
        }
      },
      "source": [
        "print(uc.groupby(['color', 'transmission'])['mileage'].median())"
      ],
      "execution_count": null,
      "outputs": [
        {
          "output_type": "stream",
          "text": [
            "color   transmission\n",
            "Black   AUTO            35753.5\n",
            "        MANUAL          32743.0\n",
            "Blue    AUTO            34846.0\n",
            "Gold    AUTO            40180.0\n",
            "Gray    AUTO            38056.0\n",
            "        MANUAL          28108.5\n",
            "Green   AUTO            30721.5\n",
            "        MANUAL          40330.0\n",
            "Red     AUTO            49844.0\n",
            "        MANUAL          85229.0\n",
            "Silver  AUTO            34970.0\n",
            "        MANUAL          42452.0\n",
            "White   AUTO            45238.0\n",
            "        MANUAL          50492.0\n",
            "Yellow  AUTO            79446.0\n",
            "        MANUAL          81596.0\n",
            "Name: mileage, dtype: float64\n"
          ],
          "name": "stdout"
        }
      ]
    },
    {
      "cell_type": "markdown",
      "metadata": {
        "id": "CqLnhW0G4ZMY"
      },
      "source": [
        "# SLR - Single Linear Regression"
      ]
    },
    {
      "cell_type": "code",
      "metadata": {
        "id": "WaX8Tse33d-q"
      },
      "source": [
        "# we need new packages for SLR\n",
        "from sklearn import linear_model, metrics\n",
        "from scipy import stats\n",
        "\n",
        "# then bring in our rent dataset\n",
        "rent_df = pd.read_csv('https://raw.githubusercontent.com/mlhwang/ma322/master/rent.csv')"
      ],
      "execution_count": null,
      "outputs": []
    },
    {
      "cell_type": "code",
      "metadata": {
        "id": "0NIbUzfP5ayG",
        "outputId": "7216a721-ff88-4535-d37b-ae93799e1aee",
        "colab": {
          "base_uri": "https://localhost:8080/"
        }
      },
      "source": [
        "# what are we looking at? what is the data set referring to?\n",
        "# lets take a look\n",
        "\n",
        "print(rent_df.head(5))"
      ],
      "execution_count": null,
      "outputs": [
        {
          "output_type": "stream",
          "text": [
            "   Unnamed: 0  rent  size\n",
            "0           1  1730  1390\n",
            "1           2  1840  1430\n",
            "2           3  1570  1380\n",
            "3           4  1720  1440\n",
            "4           5  1240   980\n"
          ],
          "name": "stdout"
        }
      ]
    },
    {
      "cell_type": "code",
      "metadata": {
        "id": "IbQqrSu655ux",
        "outputId": "56a40080-4492-4b86-ba4d-410064d83b3a",
        "colab": {
          "base_uri": "https://localhost:8080/"
        }
      },
      "source": [
        "print(rent_df.info())"
      ],
      "execution_count": null,
      "outputs": [
        {
          "output_type": "stream",
          "text": [
            "<class 'pandas.core.frame.DataFrame'>\n",
            "RangeIndex: 1000 entries, 0 to 999\n",
            "Data columns (total 3 columns):\n",
            " #   Column      Non-Null Count  Dtype\n",
            "---  ------      --------------  -----\n",
            " 0   Unnamed: 0  1000 non-null   int64\n",
            " 1   rent        1000 non-null   int64\n",
            " 2   size        1000 non-null   int64\n",
            "dtypes: int64(3)\n",
            "memory usage: 23.6 KB\n",
            "None\n"
          ],
          "name": "stdout"
        }
      ]
    },
    {
      "cell_type": "code",
      "metadata": {
        "id": "vEzGGTOz6CwQ"
      },
      "source": [
        "# ok, so based on that,\n",
        "# we are looking at the relationship between rent and size\n",
        "\n",
        "# With this data, we want to PREDICT:\n",
        "# what the rent will be, based on the size of the apartment\n",
        "\n",
        "# what is the target feature?\n",
        "# (target feature is what you are looking to predict,\n",
        "#              aka your Y value,  or the outcome variable)"
      ],
      "execution_count": null,
      "outputs": []
    },
    {
      "cell_type": "markdown",
      "metadata": {
        "id": "ySYcOBhaS3C-"
      },
      "source": [
        "To visually understand the relationship, we might want to see the data in a scatterplot. We can use the `plt.scatter` function. "
      ]
    },
    {
      "cell_type": "code",
      "metadata": {
        "id": "CRJMYw1y8Qli",
        "outputId": "de30bb8b-00cb-4597-bd28-3fb9d6175d30",
        "colab": {
          "base_uri": "https://localhost:8080/",
          "height": 283
        }
      },
      "source": [
        "print(plt.scatter(rent_df['size'], rent_df['rent']))"
      ],
      "execution_count": null,
      "outputs": [
        {
          "output_type": "stream",
          "text": [
            "<matplotlib.collections.PathCollection object at 0x7f98644dc898>\n"
          ],
          "name": "stdout"
        },
        {
          "output_type": "display_data",
          "data": {
            "image/png": "[encoded data removed]",
            "text/plain": [
              "<Figure size 432x288 with 1 Axes>"
            ]
          },
          "metadata": {
            "tags": [],
            "needs_background": "light"
          }
        }
      ]
    },
    {
      "cell_type": "code",
      "metadata": {
        "id": "FMULwmtn_ioB",
        "outputId": "3a179636-a3be-4f26-b625-972995c08335",
        "colab": {
          "base_uri": "https://localhost:8080/"
        }
      },
      "source": [
        "# to calculate the correlation coeficient (aka pearson correlation coef)\n",
        "# use the 'pearsonr' method of stats, specifying X and Y variables\n",
        "# it will return the correlation coefficient and the p-value\n",
        "print(stats.pearsonr(rent_df['size'], rent_df['rent']))"
      ],
      "execution_count": null,
      "outputs": [
        {
          "output_type": "stream",
          "text": [
            "(0.9038801099286037, 0.0)\n"
          ],
          "name": "stdout"
        }
      ]
    },
    {
      "cell_type": "code",
      "metadata": {
        "id": "HZ79RcHSKjMx"
      },
      "source": [
        "# we can visually see a positive correlation on the plot\n",
        "# and the correlation coefficient was pretty close to 1\n",
        "\n",
        "# so we can feel confident about using these TWO features\n",
        "# to run a linear regression model"
      ],
      "execution_count": null,
      "outputs": []
    },
    {
      "cell_type": "code",
      "metadata": {
        "id": "BMaG4sHjifUe",
        "outputId": "cf459f6d-f8af-4636-fd05-f67d22069fb5",
        "colab": {
          "base_uri": "https://localhost:8080/"
        }
      },
      "source": [
        "# for a linear regression model,\n",
        "# we are going to be using the LinearRegression method of linear_model\n",
        "# (which we imported from sklearn above)\n",
        "\n",
        "# for our model, we need to fit the model with our data\n",
        "# notice the double set of brackets[] around the Y variable\n",
        "\n",
        "model = linear_model.LinearRegression().fit(rent_df[['size']], rent_df['rent'])\n",
        "\n",
        "# of our model, we want to know the value of:\n",
        "# coefficient \"coef_\"\n",
        "# intercept \"intercept_\"\n",
        "\n",
        "print(model.coef_)\n",
        "print(model.intercept_)"
      ],
      "execution_count": null,
      "outputs": [
        {
          "output_type": "stream",
          "text": [
            "[1.06336921]\n",
            "201.38478810368906\n"
          ],
          "name": "stdout"
        }
      ]
    },
    {
      "cell_type": "code",
      "metadata": {
        "id": "aBVWPL9lydxD"
      },
      "source": [
        "# therefore,\n",
        "# Y_hat = 201.38 + 1.06*X\n",
        "\n",
        "# in context:\n",
        "# rent_hat = 201.38 + 1.06*size"
      ],
      "execution_count": null,
      "outputs": []
    },
    {
      "cell_type": "code",
      "metadata": {
        "id": "YDrpjcvAzBHE",
        "outputId": "6149246c-e5ad-413e-e4f1-42f977348f41",
        "colab": {
          "base_uri": "https://localhost:8080/"
        }
      },
      "source": [
        "# So now that we have linear regression model,\n",
        "# or a PREDICTION LINE\n",
        "# we can use that to PREDICT the rent for a new apartment size\n",
        "\n",
        "print(model.predict([[3000]]))  # take note of the double brackets"
      ],
      "execution_count": null,
      "outputs": [
        {
          "output_type": "stream",
          "text": [
            "[3391.49242088]\n"
          ],
          "name": "stdout"
        }
      ]
    },
    {
      "cell_type": "code",
      "metadata": {
        "id": "Zq-pJh3Phrce",
        "outputId": "e5a8b079-64af-448e-b5bf-f13ca9399f52",
        "colab": {
          "base_uri": "https://localhost:8080/"
        }
      },
      "source": [
        "# R^2 is the coefficient of determination\n",
        "\n",
        "# to calculate the R^2\n",
        "# we will use the \"metrics.r2_score\" function\n",
        "\n",
        "# that function requires two parameters, \n",
        "# the actual y values,\n",
        "# and the all the y predictions\n",
        "\n",
        "# storing all the predictions for the all the sizes as a variable\n",
        "rent_predictions = model.predict(rent_df[['size']])\n",
        "\n",
        "# putting the parameters into the function\n",
        "print(metrics.r2_score(rent_df['rent'], rent_predictions))"
      ],
      "execution_count": null,
      "outputs": [
        {
          "output_type": "stream",
          "text": [
            "0.8169992531245445\n"
          ],
          "name": "stdout"
        }
      ]
    },
    {
      "cell_type": "code",
      "metadata": {
        "id": "SqasBCYK1gPr",
        "outputId": "36c11a86-0589-4967-cf9a-d2cf24e41f7b",
        "colab": {
          "base_uri": "https://localhost:8080/",
          "height": 283
        }
      },
      "source": [
        "# graphing the linear regression line\n",
        "\n",
        "# in google colab, to put two graphs on the same plot,\n",
        "# just include them in the same code block\n",
        "\n",
        "# re-plot the original data (as points)\n",
        "plt.plot(rent_df['size'],rent_df['rent'], 'o')\n",
        "\n",
        "# plot the data of size as X, and the predictions as Y (as a line)\n",
        "plt.plot(rent_df['size'], rent_predictions, '-', linewidth=4)"
      ],
      "execution_count": null,
      "outputs": [
        {
          "output_type": "execute_result",
          "data": {
            "text/plain": [
              "[<matplotlib.lines.Line2D at 0x7f9863cd4fd0>]"
            ]
          },
          "metadata": {
            "tags": []
          },
          "execution_count": 35
        },
        {
          "output_type": "display_data",
          "data": {
            "image/png": "[encoded data removed]",
            "text/plain": [
              "<Figure size 432x288 with 1 Axes>"
            ]
          },
          "metadata": {
            "tags": [],
            "needs_background": "light"
          }
        }
      ]
    },
    {
      "cell_type": "code",
      "metadata": {
        "id": "EuPIQ9pPmQI7",
        "outputId": "944935d9-c483-4dce-fc56-507cae5a0a87",
        "colab": {
          "base_uri": "https://localhost:8080/",
          "height": 283
        }
      },
      "source": [
        "# to change color/shape\n",
        "\n",
        "# see all options here:\n",
        "# https://matplotlib.org/3.3.2/api/markers_api.html#module-matplotlib.markers\n",
        "plt.plot(rent_df['size'],rent_df['rent'], 'o', marker='_', color='brown')\n",
        "\n",
        "# plot the data of size as X, and the predictions as Y (as a line)\n",
        "plt.plot(rent_df['size'], rent_predictions, '-', linewidth=2, color='navy')"
      ],
      "execution_count": null,
      "outputs": [
        {
          "output_type": "execute_result",
          "data": {
            "text/plain": [
              "[<matplotlib.lines.Line2D at 0x7f9863cd4748>]"
            ]
          },
          "metadata": {
            "tags": []
          },
          "execution_count": 44
        },
        {
          "output_type": "display_data",
          "data": {
            "image/png": "[encoded data removed]",
            "text/plain": [
              "<Figure size 432x288 with 1 Axes>"
            ]
          },
          "metadata": {
            "tags": [],
            "needs_background": "light"
          }
        }
      ]
    },
    {
      "cell_type": "markdown",
      "metadata": {
        "id": "b39fyeG6uNEB"
      },
      "source": [
        "# Ice Cream Sales!!!\n",
        "Here `temp` will represent the temperature on some day and the `gallons`\n",
        "will represent how many gallons of ice cream we sell on that day. We\n",
        "have 10 days of data.\n",
        "\n",
        "We might wish to predict `gallons` from `temp` so `gallons` is our Y and\n",
        "`temp` is our X.\n",
        "\n",
        "Y is the predicted response or outcome and X is the predictor.\n"
      ]
    },
    {
      "cell_type": "code",
      "metadata": {
        "id": "8K9DVgK6uZmD"
      },
      "source": [
        "temp = [73,65,81,90,75,77,82,93,86,79]\n",
        "gallons = [110,95,135,160,97,105,120,175,140,121]"
      ],
      "execution_count": null,
      "outputs": []
    },
    {
      "cell_type": "markdown",
      "metadata": {
        "id": "rvGBbIDvvGBs"
      },
      "source": [
        "Let’s create a data frame using the two vectors above, so the `temp` is\n",
        "the 1st column and the `gallons` is the 2nd column"
      ]
    },
    {
      "cell_type": "code",
      "metadata": {
        "id": "RYfASsuVuGrQ",
        "outputId": "d9f69ed4-e05e-46d9-8141-4836c93704c4",
        "colab": {
          "base_uri": "https://localhost:8080/"
        }
      },
      "source": [
        "# first we zip the two lists togther\n",
        "merged = list(zip(temp, gallons))\n",
        "\n",
        "# then we create the dataframe\n",
        "ic = pd.DataFrame(merged, columns = ['temp', 'gallons'])\n",
        "\n",
        "# and finally, to double check, print it\n",
        "print(ic)"
      ],
      "execution_count": null,
      "outputs": [
        {
          "output_type": "stream",
          "text": [
            "   temp  gallons\n",
            "0    73      110\n",
            "1    65       95\n",
            "2    81      135\n",
            "3    90      160\n",
            "4    75       97\n",
            "5    77      105\n",
            "6    82      120\n",
            "7    93      175\n",
            "8    86      140\n",
            "9    79      121\n"
          ],
          "name": "stdout"
        }
      ]
    },
    {
      "cell_type": "markdown",
      "metadata": {
        "id": "S__Ks9Phwwns"
      },
      "source": [
        "The most simple plot that you might want to see from this situation is a\n",
        "scatterplot. We can use the `plt.scatter` function. Remeber to define the x and y variables."
      ]
    },
    {
      "cell_type": "code",
      "metadata": {
        "id": "GJCYA6gFwTDD",
        "outputId": "1413671c-847c-414e-a57c-c87d34fde0e9",
        "colab": {
          "base_uri": "https://localhost:8080/",
          "height": 282
        }
      },
      "source": [
        "print(plt.scatter(ic['temp'], ic['gallons']))"
      ],
      "execution_count": null,
      "outputs": [
        {
          "output_type": "stream",
          "text": [
            "<matplotlib.collections.PathCollection object at 0x7f9863ed57b8>\n"
          ],
          "name": "stdout"
        },
        {
          "output_type": "display_data",
          "data": {
            "image/png": "[encoded data removed]",
            "text/plain": [
              "<Figure size 432x288 with 1 Axes>"
            ]
          },
          "metadata": {
            "tags": [],
            "needs_background": "light"
          }
        }
      ]
    },
    {
      "cell_type": "code",
      "metadata": {
        "id": "4Q8NwcsvxVID",
        "outputId": "37e44a4f-c263-44f4-e2aa-a4b735e56c3e",
        "colab": {
          "base_uri": "https://localhost:8080/",
          "height": 312
        }
      },
      "source": [
        "# let's clean it up with a title and proper axis labels\n",
        "plt.scatter(ic['temp'], ic['gallons'])\n",
        "plt.xlabel(\"Temperature\")\n",
        "plt.ylabel(\"Gallons Sold\")\n",
        "plt.title(\"Ice Cream Sales\")"
      ],
      "execution_count": null,
      "outputs": [
        {
          "output_type": "display_data",
          "data": {
            "image/png": "[encoded data removed]",
            "text/plain": [
              "<Figure size 432x288 with 1 Axes>"
            ]
          },
          "metadata": {
            "tags": [],
            "needs_background": "light"
          }
        },
        {
          "output_type": "stream",
          "text": [
            "None\n"
          ],
          "name": "stdout"
        }
      ]
    },
    {
      "cell_type": "code",
      "metadata": {
        "id": "VR2lB9nx1mPO"
      },
      "source": [
        "# here, we can set X and Y as variables before using them in the model\n",
        "\n",
        "X = ic[['temp']]\n",
        "Y = ic['gallons']\n",
        "\n",
        "ic_model = linear_model.LinearRegression().fit(X,Y)"
      ],
      "execution_count": null,
      "outputs": []
    },
    {
      "cell_type": "code",
      "metadata": {
        "id": "2Qo8beP2VmJ4",
        "outputId": "a88283ea-a325-4da9-ad1c-a9888dfb5424",
        "colab": {
          "base_uri": "https://localhost:8080/"
        }
      },
      "source": [
        "# now that we have created our model,\n",
        "# let's make some predictions!!\n",
        "\n",
        "print(\"On a day with a temperature of 85°, the predicted gallons of icecream sold is:\", ic_model.predict([[85]]))\n",
        "print(\"Whereas, on a day with a temperature of 100°, the predicted gallons of icecream sold is:\", ic_model.predict([[100]]))"
      ],
      "execution_count": null,
      "outputs": [
        {
          "output_type": "stream",
          "text": [
            "On a day with a temperature of 85°, the predicted gallons of icecream sold is: [140.43270318]\n",
            "Whereas, on a day with a temperature of 100°, the predicted gallons of icecream sold is: [185.22669252]\n"
          ],
          "name": "stdout"
        }
      ]
    },
    {
      "cell_type": "code",
      "metadata": {
        "id": "yjaSnrUJhYjZ",
        "outputId": "ba57b2d3-6975-4a4a-ebfd-09efd8086233",
        "colab": {
          "base_uri": "https://localhost:8080/",
          "height": 282
        }
      },
      "source": [
        "# lastly, lets graph the linear regression line\n",
        "\n",
        "# storing all the predictions for the all the sizes as a variable \"temp_predictions\"\n",
        "gal_predictions = ic_model.predict(ic[['temp']])\n",
        "\n",
        "# re-plot the original data (as points)\n",
        "plt.plot(ic['temp'],ic['gallons'], 'o')\n",
        "# plot the data of size as X, and the predictions as Y (as a line)\n",
        "plt.plot(ic['temp'], gal_predictions, '-', linewidth=2)"
      ],
      "execution_count": null,
      "outputs": [
        {
          "output_type": "execute_result",
          "data": {
            "text/plain": [
              "[<matplotlib.lines.Line2D at 0x7f9863c87d30>]"
            ]
          },
          "metadata": {
            "tags": []
          },
          "execution_count": 36
        },
        {
          "output_type": "display_data",
          "data": {
            "image/png": "[encoded data removed]",
            "text/plain": [
              "<Figure size 432x288 with 1 Axes>"
            ]
          },
          "metadata": {
            "tags": [],
            "needs_background": "light"
          }
        }
      ]
    }
  ]
}