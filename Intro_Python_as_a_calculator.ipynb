{
  "nbformat": 4,
  "nbformat_minor": 0,
  "metadata": {
    "colab": {
      "name": "Intro_Python_as_a_calculator.ipynb",
      "provenance": [],
      "collapsed_sections": [],
      "include_colab_link": true
    },
    "kernelspec": {
      "name": "python3",
      "display_name": "Python 3"
    }
  },
  "cells": [
    {
      "cell_type": "markdown",
      "metadata": {
        "id": "view-in-github",
        "colab_type": "text"
      },
      "source": [
        "<a href=\"https://colab.research.google.com/github/samantha-olinsky/MA322-Python/blob/main/Intro_Python_as_a_calculator.ipynb\" target=\"_parent\"><img src=\"https://colab.research.google.com/assets/colab-badge.svg\" alt=\"Open In Colab\"/></a>"
      ]
    },
    {
      "cell_type": "code",
      "metadata": {
        "id": "NfepL0Y0Pyu2",
        "outputId": "d2091b9a-edc3-4226-9644-c75015a615bd",
        "colab": {
          "base_uri": "https://localhost:8080/"
        }
      },
      "source": [
        "# comments in Python use the \"hashtag\" symbol\n",
        "######### it doesn't really matter how many\n",
        "## its a personal preference\n",
        "# Cmnd(or Ctrl) + Foward Slash \"/\" to toggle a line as a comment\n",
        "\n",
        "\n",
        "# variables are declared in Python simply by assigning it a value using \"=\"\n",
        "\n",
        "seconds_in_a_day = 24 * 60 * 60\n",
        "seconds_in_a_week = 7 * seconds_in_a_day\n",
        "print(seconds_in_a_week)   # this line will be output"
      ],
      "execution_count": null,
      "outputs": [
        {
          "output_type": "stream",
          "text": [
            "604800\n"
          ],
          "name": "stdout"
        }
      ]
    },
    {
      "cell_type": "markdown",
      "metadata": {
        "id": "tJett2OKY0bN"
      },
      "source": [
        "##All About Python Variable Naming\n",
        "* A variable name must start with a letter or the underscore character \"_\"\n",
        "* A variable name CANNOT start with a number\n",
        "* A variable name can only contain alpha-numeric characters and underscores (A-z, 0-9, and _ ) <br> (**NO:** @ # $ % & ! ? * )\n",
        "* Variable names CANNOT contain spaces\n",
        "* Variable names are case-sensitive (age, Age and AGE are three different variables)"
      ]
    },
    {
      "cell_type": "markdown",
      "metadata": {
        "id": "J2u-_ZEEj7tS"
      },
      "source": [
        "## Using Python for Math"
      ]
    },
    {
      "cell_type": "code",
      "metadata": {
        "id": "7gaH5MQPFDV_",
        "outputId": "cad34288-7ed1-4ae5-c4bc-0fadacb975e7",
        "colab": {
          "base_uri": "https://localhost:8080/",
          "height": 119
        }
      },
      "source": [
        "# you can do classic math operations with python\n",
        "print(27 + 18)\n",
        "print(18.4 - 29.7)\n",
        "print(485 / 3)\n",
        "print(13 * 7)\n",
        "\n",
        "# the \"%\" is used for calculating the remainder\n",
        "# it will return the remainder when the first num is divided by the second\n",
        "print(7 % 3)\n",
        "print(27 % 4)"
      ],
      "execution_count": null,
      "outputs": [
        {
          "output_type": "stream",
          "text": [
            "45\n",
            "-11.3\n",
            "161.66666666666666\n",
            "91\n",
            "1\n",
            "3\n"
          ],
          "name": "stdout"
        }
      ]
    },
    {
      "cell_type": "code",
      "metadata": {
        "id": "_8vOPihgc4Gs",
        "outputId": "76d53757-26a9-4505-e2ed-2bd5e0ef0386",
        "colab": {
          "base_uri": "https://localhost:8080/",
          "height": 34
        }
      },
      "source": [
        "# in order to do many functions in python\n",
        "# we will need to IMPORT the relevant PACKAGES\n",
        "# (a package is made up of many modules)\n",
        "# for mathematic functions, we'll import \"math\"\n",
        "import math\n",
        "\n",
        "# now when we use it, we'll call the module by typing \"math\"\n",
        "# we need to establish which METHOD we are going to use\n",
        "# aka, what mathematic function do we want to perform?\n",
        "x = math.sqrt(10)\n",
        "print(x)"
      ],
      "execution_count": null,
      "outputs": [
        {
          "output_type": "stream",
          "text": [
            "3.1622776601683795\n"
          ],
          "name": "stdout"
        }
      ]
    },
    {
      "cell_type": "code",
      "metadata": {
        "id": "kpeJXjs8ohY3",
        "outputId": "bb61667b-7dbb-4aa6-e148-f47cdd0782ac",
        "colab": {
          "base_uri": "https://localhost:8080/",
          "height": 68
        }
      },
      "source": [
        "# there are tons of mathematic functions we do with \"math\"\n",
        "x = math.fabs(-10)     # absolute value\n",
        "y = math.factorial(5)  # 5 factorial (or 5!)\n",
        "a = math.log(2)        # natural log of 2\n",
        "print(x)\n",
        "print(y)\n",
        "print(a)"
      ],
      "execution_count": null,
      "outputs": [
        {
          "output_type": "stream",
          "text": [
            "10.0\n",
            "120\n",
            "0.6931471805599453\n"
          ],
          "name": "stdout"
        }
      ]
    },
    {
      "cell_type": "code",
      "metadata": {
        "id": "JIWdIRxzq-Q3",
        "outputId": "bb7b264e-eb11-4cd9-a1ed-c8bbf015c60e",
        "colab": {
          "base_uri": "https://localhost:8080/",
          "height": 51
        }
      },
      "source": [
        "# something you may have noticed,\n",
        "# even though the results for print(x) and print(y) \n",
        "# are both whole numbers ( 10 and 120 )\n",
        "# the output for 10 is showing one decimal place\n",
        "\n",
        "# while they are both numbers,\n",
        "# the computer actually treats these as two different data types.\n",
        "# lets take a look.\n",
        "print(type(x))\n",
        "print(type(y))"
      ],
      "execution_count": null,
      "outputs": [
        {
          "output_type": "stream",
          "text": [
            "<class 'float'>\n",
            "<class 'int'>\n"
          ],
          "name": "stdout"
        }
      ]
    },
    {
      "cell_type": "markdown",
      "metadata": {
        "id": "ddWLMZrGL1DB"
      },
      "source": [
        "A \"float\" data type is a number that contains a decimal point.\n",
        "\n",
        "A \"int\" data type is an integer (aka whole number).\n",
        "\n",
        "(Floats may also be written as scientific notation: `2.54e-8`)\n",
        "\n",
        "Certain math operations will return integers and other will return floats.\n",
        "\n"
      ]
    },
    {
      "cell_type": "code",
      "metadata": {
        "id": "ywpCAIggjTi4",
        "outputId": "08e21b58-cd08-4de3-e8cb-25c2f6cb639a",
        "colab": {
          "base_uri": "https://localhost:8080/",
          "height": 34
        }
      },
      "source": [
        "b = math.pow(2, 3)     # any guesses?\n",
        "\n",
        "# lets find out\n",
        "print(b)"
      ],
      "execution_count": null,
      "outputs": [
        {
          "output_type": "stream",
          "text": [
            "8.0\n"
          ],
          "name": "stdout"
        }
      ]
    },
    {
      "cell_type": "code",
      "metadata": {
        "id": "6mmVbFJptEdB"
      },
      "source": [
        "# as you might notice\n",
        "# the .pow() method took 2 numbers instead of 1\n",
        "# the numbers that you pass to the function are called ARGUMENTS\n",
        "\n",
        "c = math.log(2, 10)    # here, the second argument specifies the base"
      ],
      "execution_count": null,
      "outputs": []
    }
  ]
}