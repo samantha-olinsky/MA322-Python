{
  "nbformat": 4,
  "nbformat_minor": 0,
  "metadata": {
    "colab": {
      "name": "KNN-Lab.ipynb",
      "provenance": [],
      "authorship_tag": "ABX9TyMNodxDtS0FxTFmtpSTepyn",
      "include_colab_link": true
    },
    "kernelspec": {
      "name": "python3",
      "display_name": "Python 3"
    }
  },
  "cells": [
    {
      "cell_type": "markdown",
      "metadata": {
        "id": "view-in-github",
        "colab_type": "text"
      },
      "source": [
        "<a href=\"https://colab.research.google.com/github/samantha-olinsky/MA322-Python/blob/main/KNN/KNN_Lab.ipynb\" target=\"_parent\"><img src=\"https://colab.research.google.com/assets/colab-badge.svg\" alt=\"Open In Colab\"/></a>"
      ]
    },
    {
      "cell_type": "code",
      "metadata": {
        "id": "X9iayOOV0rtG"
      },
      "source": [
        "# lets import our packages\n",
        "import pandas as pd\n",
        "import seaborn as sns\n",
        "from sklearn.neighbors import KNeighborsClassifier\n",
        "from sklearn import metrics\n",
        "import math"
      ],
      "execution_count": 2,
      "outputs": []
    },
    {
      "cell_type": "code",
      "metadata": {
        "id": "1XGcuKacD35b"
      },
      "source": [
        "# load in dataset\n",
        "df = pd.read_csv('https://raw.githubusercontent.com/mlhwang/ma322/master/breast_cancer.csv')"
      ],
      "execution_count": 3,
      "outputs": []
    },
    {
      "cell_type": "markdown",
      "metadata": {
        "id": "QAuWwelSCFzt"
      },
      "source": [
        "### Lab Question 1:"
      ]
    },
    {
      "cell_type": "code",
      "metadata": {
        "id": "9sNnWXuy1w9T"
      },
      "source": [
        "# diagnosis is our target feature\n",
        "# it is a categorical feature with two categories: benign and malignant\n",
        "# (because it only has two catgeories, it is binary)\n",
        "\n",
        "# the process of predicitng categorical features is called\n",
        "# kNN, or K nearest neighbors"
      ],
      "execution_count": null,
      "outputs": []
    },
    {
      "cell_type": "markdown",
      "metadata": {
        "id": "q8s6QlwrFkPF"
      },
      "source": [
        "###Lab Question 2:"
      ]
    },
    {
      "cell_type": "code",
      "metadata": {
        "id": "xPsI6FyxFnW1",
        "outputId": "912926c4-f37e-4fd7-ccd4-f61579c7e75b",
        "colab": {
          "base_uri": "https://localhost:8080/"
        }
      },
      "source": [
        "print(df)"
      ],
      "execution_count": 4,
      "outputs": [
        {
          "output_type": "stream",
          "text": [
            "     radius_mean  texture_mean  ...  dimension_worst  diagnosis\n",
            "0       0.150930      0.174839  ...         0.165027     benign\n",
            "1       0.296228      0.352384  ...         0.458219     benign\n",
            "2       0.306640      0.625634  ...         0.102125     benign\n",
            "3       0.203938      0.112614  ...         0.165158     benign\n",
            "4       0.246533      0.121069  ...         0.245113     benign\n",
            "..           ...           ...  ...              ...        ...\n",
            "564     0.197312      0.113967  ...         0.083169     benign\n",
            "565     0.290075      0.433886  ...         0.344746     benign\n",
            "566     0.171281      0.312479  ...         0.136626     benign\n",
            "567     0.379052      0.419344  ...         0.245769     benign\n",
            "568     0.439633      0.371999  ...         0.176833  malignant\n",
            "\n",
            "[569 rows x 31 columns]\n"
          ],
          "name": "stdout"
        }
      ]
    },
    {
      "cell_type": "code",
      "metadata": {
        "id": "f9MeBe-HFtKn"
      },
      "source": [
        "# there are 569 rows/examples in this dataset\n",
        "# each example represents an independent vanceer biopsy"
      ],
      "execution_count": null,
      "outputs": []
    },
    {
      "cell_type": "markdown",
      "metadata": {
        "id": "ccUSmDcnGTya"
      },
      "source": [
        "###Lab Question 3:"
      ]
    },
    {
      "cell_type": "code",
      "metadata": {
        "id": "8ubPQSG7GcLQ",
        "outputId": "b699494f-a39b-4f1a-be6c-714b1f615e84",
        "colab": {
          "base_uri": "https://localhost:8080/"
        }
      },
      "source": [
        "# frequency table\n",
        "freq_tab = pd.crosstab(index=df['diagnosis'], columns=\"count\")\n",
        "print(freq_tab)"
      ],
      "execution_count": 6,
      "outputs": [
        {
          "output_type": "stream",
          "text": [
            "col_0      count\n",
            "diagnosis       \n",
            "benign       357\n",
            "malignant    212\n"
          ],
          "name": "stdout"
        }
      ]
    },
    {
      "cell_type": "code",
      "metadata": {
        "id": "XFW2bu3GGlzN",
        "outputId": "2f710eff-3b4d-4441-8c89-6b3aca02783a",
        "colab": {
          "base_uri": "https://localhost:8080/"
        }
      },
      "source": [
        "# relative frequency table (divide by the sum)\n",
        "print(freq_tab/freq_tab.sum())"
      ],
      "execution_count": 7,
      "outputs": [
        {
          "output_type": "stream",
          "text": [
            "col_0         count\n",
            "diagnosis          \n",
            "benign     0.627417\n",
            "malignant  0.372583\n"
          ],
          "name": "stdout"
        }
      ]
    },
    {
      "cell_type": "code",
      "metadata": {
        "id": "R5zBDWmIHXEl",
        "outputId": "dc4f27c7-6a15-4140-f1a3-fdc58348cd2a",
        "colab": {
          "base_uri": "https://localhost:8080/"
        }
      },
      "source": [
        "# take a look at the 30 independent features\n",
        "print(df.info()) "
      ],
      "execution_count": 9,
      "outputs": [
        {
          "output_type": "stream",
          "text": [
            "<class 'pandas.core.frame.DataFrame'>\n",
            "RangeIndex: 569 entries, 0 to 568\n",
            "Data columns (total 31 columns):\n",
            " #   Column             Non-Null Count  Dtype  \n",
            "---  ------             --------------  -----  \n",
            " 0   radius_mean        569 non-null    float64\n",
            " 1   texture_mean       569 non-null    float64\n",
            " 2   perimeter_mean     569 non-null    float64\n",
            " 3   area_mean          569 non-null    float64\n",
            " 4   smoothness_mean    569 non-null    float64\n",
            " 5   compactness_mean   569 non-null    float64\n",
            " 6   concavity_mean     569 non-null    float64\n",
            " 7   points_mean        569 non-null    float64\n",
            " 8   symmetry_mean      569 non-null    float64\n",
            " 9   dimension_mean     569 non-null    float64\n",
            " 10  radius_se          569 non-null    float64\n",
            " 11  texture_se         569 non-null    float64\n",
            " 12  perimeter_se       569 non-null    float64\n",
            " 13  area_se            569 non-null    float64\n",
            " 14  smoothness_se      569 non-null    float64\n",
            " 15  compactness_se     569 non-null    float64\n",
            " 16  concavity_se       569 non-null    float64\n",
            " 17  points_se          569 non-null    float64\n",
            " 18  symmetry_se        569 non-null    float64\n",
            " 19  dimension_se       569 non-null    float64\n",
            " 20  radius_worst       569 non-null    float64\n",
            " 21  texture_worst      569 non-null    float64\n",
            " 22  perimeter_worst    569 non-null    float64\n",
            " 23  area_worst         569 non-null    float64\n",
            " 24  smoothness_worst   569 non-null    float64\n",
            " 25  compactness_worst  569 non-null    float64\n",
            " 26  concavity_worst    569 non-null    float64\n",
            " 27  points_worst       569 non-null    float64\n",
            " 28  symmetry_worst     569 non-null    float64\n",
            " 29  dimension_worst    569 non-null    float64\n",
            " 30  diagnosis          569 non-null    object \n",
            "dtypes: float64(30), object(1)\n",
            "memory usage: 137.9+ KB\n",
            "None\n"
          ],
          "name": "stdout"
        }
      ]
    },
    {
      "cell_type": "markdown",
      "metadata": {
        "id": "jsioXcbEH-aG"
      },
      "source": [
        "###Lab Question 4:"
      ]
    },
    {
      "cell_type": "code",
      "metadata": {
        "id": "tZEELCmNH7A4",
        "outputId": "f64b37c2-0a0f-4f36-80e4-ad6c411902b2",
        "colab": {
          "base_uri": "https://localhost:8080/"
        }
      },
      "source": [
        "print(df.describe())\n",
        "\n",
        "# notice how the min is always 0\n",
        "# and max is always 1"
      ],
      "execution_count": 11,
      "outputs": [
        {
          "output_type": "stream",
          "text": [
            "       radius_mean  texture_mean  ...  symmetry_worst  dimension_worst\n",
            "count   569.000000    569.000000  ...      569.000000       569.000000\n",
            "mean      0.338222      0.323965  ...        0.263307         0.189596\n",
            "std       0.166787      0.145453  ...        0.121954         0.118466\n",
            "min       0.000000      0.000000  ...        0.000000         0.000000\n",
            "25%       0.223342      0.218465  ...        0.185098         0.107700\n",
            "50%       0.302381      0.308759  ...        0.247782         0.163977\n",
            "75%       0.416442      0.408860  ...        0.318155         0.242949\n",
            "max       1.000000      1.000000  ...        1.000000         1.000000\n",
            "\n",
            "[8 rows x 30 columns]\n"
          ],
          "name": "stdout"
        }
      ]
    },
    {
      "cell_type": "markdown",
      "metadata": {
        "id": "6nQneYIyId7H"
      },
      "source": [
        "###Lab Question 5:"
      ]
    },
    {
      "cell_type": "code",
      "metadata": {
        "id": "8NazQw6EIbWO"
      },
      "source": [
        "# splitting the data\n",
        "df_train = df.iloc[:469, :-1]\n",
        "df_test = df.iloc[-100:, :-1]\n",
        "df_train_tf = df['diagnosis'].iloc[:469,]\n",
        "df_test_tf = df['diagnosis'].iloc[-100:,]"
      ],
      "execution_count": 32,
      "outputs": []
    },
    {
      "cell_type": "markdown",
      "metadata": {
        "id": "5sqhJf9mKslK"
      },
      "source": [
        "###Lab Question 6:"
      ]
    },
    {
      "cell_type": "code",
      "metadata": {
        "id": "8tTWBfWdKuif",
        "outputId": "87a8554f-ca94-41b3-d659-2b7c9a666bb5",
        "colab": {
          "base_uri": "https://localhost:8080/"
        }
      },
      "source": [
        "# determine k (n_neighbors)\n",
        "print(math.sqrt(569))"
      ],
      "execution_count": 27,
      "outputs": [
        {
          "output_type": "stream",
          "text": [
            "23.853720883753127\n"
          ],
          "name": "stdout"
        }
      ]
    },
    {
      "cell_type": "code",
      "metadata": {
        "id": "rXuSW83wK7K6"
      },
      "source": [
        "# define the model\n",
        "model = KNeighborsClassifier(n_neighbors=23).fit(df_train,df_train_tf)"
      ],
      "execution_count": 33,
      "outputs": []
    },
    {
      "cell_type": "markdown",
      "metadata": {
        "id": "HDOvEWyaLibx"
      },
      "source": [
        "###Lab Question 7:"
      ]
    },
    {
      "cell_type": "code",
      "metadata": {
        "id": "nHknZiFNLlUU",
        "outputId": "add8c397-c663-43ea-87fd-d3f46e92d9db",
        "colab": {
          "base_uri": "https://localhost:8080/"
        }
      },
      "source": [
        "predictions = model.predict(df_test)\n",
        "print(metrics.confusion_matrix(df_test_tf, predictions, labels=['benign', 'malignant']))"
      ],
      "execution_count": 34,
      "outputs": [
        {
          "output_type": "stream",
          "text": [
            "[[63  2]\n",
            " [ 3 32]]\n"
          ],
          "name": "stdout"
        }
      ]
    },
    {
      "cell_type": "code",
      "metadata": {
        "id": "vvRkpE_tNqCZ",
        "outputId": "b75ba58b-0293-4adc-9084-55046eaf959a",
        "colab": {
          "base_uri": "https://localhost:8080/"
        }
      },
      "source": [
        "# adding labels to the confusion matrix\n",
        "cm_wlabel = pd.DataFrame(\n",
        "    metrics.confusion_matrix(df_test_tf, predictions, labels=['benign', 'malignant']), \n",
        "    index=['true:benign', 'true:malignant'], \n",
        "    columns=['pred:benign', 'pred:malignant']\n",
        ") # dont forget to close the pd.DataFrame parentheses\n",
        "print(cm_wlabel)"
      ],
      "execution_count": 35,
      "outputs": [
        {
          "output_type": "stream",
          "text": [
            "                pred:benign  pred:malignant\n",
            "true:benign              63               2\n",
            "true:malignant            3              32\n"
          ],
          "name": "stdout"
        }
      ]
    },
    {
      "cell_type": "code",
      "metadata": {
        "id": "V1fUyxVpL-nH"
      },
      "source": [
        "# for the testing set,\n",
        "# our algorithm only incorrectly predicted 5 of 100\n",
        "# overall, that is a very good result\n",
        "\n",
        "# of the 5 incorrectly classified examples,\n",
        "# the 3 times are more dangerous than the 2\n",
        "# because the prediction was benign, when the actual result was malignant"
      ],
      "execution_count": null,
      "outputs": []
    }
  ]
}