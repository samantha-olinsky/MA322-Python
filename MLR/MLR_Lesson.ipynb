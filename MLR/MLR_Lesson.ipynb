{
  "nbformat": 4,
  "nbformat_minor": 0,
  "metadata": {
    "colab": {
      "name": "MLR-Python.ipynb",
      "provenance": [],
      "collapsed_sections": [
        "EKc-PriOlLhw"
      ],
      "authorship_tag": "ABX9TyPmcEV8cibIMwYaNuDIrhFl",
      "include_colab_link": true
    },
    "kernelspec": {
      "name": "python3",
      "display_name": "Python 3"
    }
  },
  "cells": [
    {
      "cell_type": "markdown",
      "metadata": {
        "id": "view-in-github",
        "colab_type": "text"
      },
      "source": [
        "<a href=\"https://colab.research.google.com/github/samantha-olinsky/MA322-Python/blob/main/MLR/MLR_Lesson.ipynb\" target=\"_parent\"><img src=\"https://colab.research.google.com/assets/colab-badge.svg\" alt=\"Open In Colab\"/></a>"
      ]
    },
    {
      "cell_type": "code",
      "metadata": {
        "id": "gs9uNCxin_Cz"
      },
      "source": [
        "# importing packages we need\n",
        "import pandas as pd\n",
        "import matplotlib.pyplot as plt\n",
        "from sklearn import linear_model, metrics\n",
        "from scipy import stats"
      ],
      "execution_count": 1,
      "outputs": []
    },
    {
      "cell_type": "markdown",
      "metadata": {
        "id": "EKc-PriOlLhw"
      },
      "source": [
        "### Extraction"
      ]
    },
    {
      "cell_type": "code",
      "metadata": {
        "id": "ML8kZ_iMlT_5"
      },
      "source": [
        "# if we don't wish to use all of the data in a dataframe,\n",
        "# we can EXTRACT the features we want\n",
        "\n",
        "# extraction (or subsetting) is the process of\n",
        "# taking only SOME of the data from a dataframe"
      ],
      "execution_count": 2,
      "outputs": []
    },
    {
      "cell_type": "code",
      "metadata": {
        "id": "cT9NiPdCnKqQ",
        "outputId": "23794ee7-cabc-4b46-b43b-3bab1522eadf",
        "colab": {
          "base_uri": "https://localhost:8080/"
        }
      },
      "source": [
        "# lets take a look at the rent dataset\n",
        "\n",
        "# first we read it in\n",
        "rent_df = pd.read_csv('https://raw.githubusercontent.com/mlhwang/ma322/master/rent.csv')\n",
        "\n",
        "# then we can preview the dataframe\n",
        "print(rent_df)"
      ],
      "execution_count": 3,
      "outputs": [
        {
          "output_type": "stream",
          "text": [
            "     Unnamed: 0  rent  size\n",
            "0             1  1730  1390\n",
            "1             2  1840  1430\n",
            "2             3  1570  1380\n",
            "3             4  1720  1440\n",
            "4             5  1240   980\n",
            "..          ...   ...   ...\n",
            "995         996  1180   990\n",
            "996         997  1610  1320\n",
            "997         998  1830  1720\n",
            "998         999  1310  1230\n",
            "999        1000  1680  1280\n",
            "\n",
            "[1000 rows x 3 columns]\n"
          ],
          "name": "stdout"
        }
      ]
    },
    {
      "cell_type": "code",
      "metadata": {
        "id": "L3SLlNvjooiB",
        "outputId": "57fd86dd-70bb-4a8a-cfa4-11505317cd31",
        "colab": {
          "base_uri": "https://localhost:8080/"
        }
      },
      "source": [
        "# you may notice that unnamed feature/column\n",
        "# it is providing us with the index number of each example/row\n",
        "\n",
        "# we don't need that information\n",
        "# since Python gives us the index numbers already\n",
        "# (just off by one due to index starting at 0 instead of 1)\n",
        "\n",
        "# let's EXTRACT just the rent and size columns\n",
        "# create a new variable to store just those 2 features\n",
        "rent_df2 = rent_df[['rent', 'size']]  #double brackets because it's a list\n",
        "\n",
        "print(rent_df2)"
      ],
      "execution_count": 4,
      "outputs": [
        {
          "output_type": "stream",
          "text": [
            "     rent  size\n",
            "0    1730  1390\n",
            "1    1840  1430\n",
            "2    1570  1380\n",
            "3    1720  1440\n",
            "4    1240   980\n",
            "..    ...   ...\n",
            "995  1180   990\n",
            "996  1610  1320\n",
            "997  1830  1720\n",
            "998  1310  1230\n",
            "999  1680  1280\n",
            "\n",
            "[1000 rows x 2 columns]\n"
          ],
          "name": "stdout"
        }
      ]
    },
    {
      "cell_type": "markdown",
      "metadata": {
        "id": "sflqcD7QkzQq"
      },
      "source": [
        "### *Multiple* Linear Regression: **MLR**"
      ]
    },
    {
      "cell_type": "code",
      "metadata": {
        "id": "thu_iAcXlJn5"
      },
      "source": [
        ""
      ],
      "execution_count": 4,
      "outputs": []
    },
    {
      "cell_type": "markdown",
      "metadata": {
        "id": "73vPazDFPy2t"
      },
      "source": [
        "### **Additional MLR Example:** Sales, Radio, and Newspaper Ads"
      ]
    },
    {
      "cell_type": "code",
      "metadata": {
        "id": "z8f6MoYkPyV3"
      },
      "source": [
        "# load in the dataset to a dataframe\n",
        "df = pd.read_csv('https://docs.google.com/spreadsheets/d/e/2PACX-1vT_oNaK_QKTtFQYdh7Pl17_prektSRuDVwRD71Vo8daBd0biyeG-Oiic4dMN_EL--voDWHAc5MmXNYH/pub?gid=0&single=true&output=csv')"
      ],
      "execution_count": 5,
      "outputs": []
    },
    {
      "cell_type": "code",
      "metadata": {
        "id": "xNJtm4sfQmHN",
        "outputId": "561d56b8-2406-4ea6-ed2c-13d22158e173",
        "colab": {
          "base_uri": "https://localhost:8080/"
        }
      },
      "source": [
        "print(df)"
      ],
      "execution_count": 6,
      "outputs": [
        {
          "output_type": "stream",
          "text": [
            "    radio  newspaper  sales\n",
            "0       0         40    973\n",
            "1       0         40   1119\n",
            "2      25         25    875\n",
            "3      25         25    625\n",
            "4      30         30    910\n",
            "5      30         30    971\n",
            "6      35         35    931\n",
            "7      35         35   1177\n",
            "8      40         25    882\n",
            "9      40         25    982\n",
            "10     45         45   1628\n",
            "11     45         45   1577\n",
            "12     50          0   1044\n",
            "13     50          0    914\n",
            "14     55         25   1329\n",
            "15     55         25   1330\n",
            "16     60         30   1405\n",
            "17     60         30   1436\n",
            "18     65         35   1521\n",
            "19     65         35   1741\n",
            "20     70         40   1866\n",
            "21     70         40   1717\n"
          ],
          "name": "stdout"
        }
      ]
    },
    {
      "cell_type": "markdown",
      "metadata": {
        "id": "CCUx7_HiQa0D"
      },
      "source": [
        "As a result of the above, the dataframe `df` has the `sales`, `radio`, and\n",
        "`newspaper` Ads data loaded in."
      ]
    },
    {
      "cell_type": "markdown",
      "metadata": {
        "id": "yd-CSuP-RQHG"
      },
      "source": [
        "Lets look at the correlation coefficient, r , and the scatterplot for Newspaper and Sales.\n"
      ]
    },
    {
      "cell_type": "code",
      "metadata": {
        "id": "2zss2gtRRE0J",
        "outputId": "e56d14df-253f-484e-aec6-8b93f441ffbe",
        "colab": {
          "base_uri": "https://localhost:8080/"
        }
      },
      "source": [
        "# calculate the correlation coefficient, r , (and the p-value)\n",
        "print(stats.pearsonr(df['newspaper'], df['sales']))"
      ],
      "execution_count": 7,
      "outputs": [
        {
          "output_type": "stream",
          "text": [
            "(0.502113451911194, 0.01725439983504393)\n"
          ],
          "name": "stdout"
        }
      ]
    },
    {
      "cell_type": "code",
      "metadata": {
        "id": "bHV9VbRORvra",
        "outputId": "6d63cfc1-f5a9-4dd0-b8c4-9fc7452bc885",
        "colab": {
          "base_uri": "https://localhost:8080/",
          "height": 312
        }
      },
      "source": [
        "# labeled scatterplot\n",
        "plt.scatter(df['newspaper'], df['sales'])\n",
        "plt.xlabel(\"Newspaper Ad Spending ($000)\")\n",
        "plt.ylabel(\"Sales in Dollars ($000)\")\n",
        "plt.title(\"Newspaper Expenditures and Sales\")"
      ],
      "execution_count": 8,
      "outputs": [
        {
          "output_type": "execute_result",
          "data": {
            "text/plain": [
              "Text(0.5, 1.0, 'Newspaper Expenditures and Sales')"
            ]
          },
          "metadata": {
            "tags": []
          },
          "execution_count": 8
        },
        {
          "output_type": "display_data",
          "data": {
            "image/png": "[encoded data removed]",
            "text/plain": [
              "<Figure size 432x288 with 1 Axes>"
            ]
          },
          "metadata": {
            "tags": [],
            "needs_background": "light"
          }
        }
      ]
    },
    {
      "cell_type": "markdown",
      "metadata": {
        "id": "nlC7no-xTl4-"
      },
      "source": [
        "Now lets look at the correlation coefficient, r , and the scatter plot for ***Radio*** and Sales.\n"
      ]
    },
    {
      "cell_type": "code",
      "metadata": {
        "id": "l-3-IxyzUSfS",
        "outputId": "53351270-55a4-47ae-d7eb-864b7c9aed95",
        "colab": {
          "base_uri": "https://localhost:8080/"
        }
      },
      "source": [
        "# calculate the correlation coefficient, r , (and the p-value)\n",
        "print(stats.pearsonr(df['radio'], df['sales']))"
      ],
      "execution_count": 9,
      "outputs": [
        {
          "output_type": "stream",
          "text": [
            "(0.6966084158205958, 0.00031610836765907913)\n"
          ],
          "name": "stdout"
        }
      ]
    },
    {
      "cell_type": "code",
      "metadata": {
        "id": "f9n0DrsVUW_w",
        "outputId": "033f6b1b-957e-4bd6-b3e1-43e028904e2e",
        "colab": {
          "base_uri": "https://localhost:8080/",
          "height": 312
        }
      },
      "source": [
        "# labeled scatterplot\n",
        "plt.scatter(df['radio'], df['sales'])\n",
        "plt.xlabel(\"Radio Ad Spending ($000)\")\n",
        "plt.ylabel(\"Sales in Dollars ($000)\")\n",
        "plt.title(\"Radio Ad Expenditures and Sales\")"
      ],
      "execution_count": 10,
      "outputs": [
        {
          "output_type": "execute_result",
          "data": {
            "text/plain": [
              "Text(0.5, 1.0, 'Radio Ad Expenditures and Sales')"
            ]
          },
          "metadata": {
            "tags": []
          },
          "execution_count": 10
        },
        {
          "output_type": "display_data",
          "data": {
            "image/png": "[encoded data removed]",
            "text/plain": [
              "<Figure size 432x288 with 1 Axes>"
            ]
          },
          "metadata": {
            "tags": [],
            "needs_background": "light"
          }
        }
      ]
    },
    {
      "cell_type": "code",
      "metadata": {
        "id": "tO3u6yWgU6AQ",
        "outputId": "2008d878-5645-4d9c-a2d0-6ab2c4d6ff5d",
        "colab": {
          "base_uri": "https://localhost:8080/"
        }
      },
      "source": [
        "# correlation matrix\n",
        "print(df.corr())"
      ],
      "execution_count": 11,
      "outputs": [
        {
          "output_type": "stream",
          "text": [
            "              radio  newspaper     sales\n",
            "radio      1.000000  -0.092127  0.696608\n",
            "newspaper -0.092127   1.000000  0.502113\n",
            "sales      0.696608   0.502113  1.000000\n"
          ],
          "name": "stdout"
        }
      ]
    },
    {
      "cell_type": "code",
      "metadata": {
        "id": "MBIZm6GGXQs1",
        "outputId": "cccf09f8-8375-46e7-d8ca-e0b6cd0ab74b",
        "colab": {
          "base_uri": "https://localhost:8080/",
          "height": 567
        }
      },
      "source": [
        "# scatterplot matrix\n",
        "import seaborn as sns\n",
        "print(sns.pairplot(df))"
      ],
      "execution_count": 12,
      "outputs": [
        {
          "output_type": "stream",
          "text": [
            "<seaborn.axisgrid.PairGrid object at 0x7fac0bbf9358>\n"
          ],
          "name": "stdout"
        },
        {
          "output_type": "display_data",
          "data": {
            "image/png": "[encoded data removed]",
            "text/plain": [
              "<Figure size 540x540 with 12 Axes>"
            ]
          },
          "metadata": {
            "tags": [],
            "needs_background": "light"
          }
        }
      ]
    },
    {
      "cell_type": "code",
      "metadata": {
        "id": "7FU5NviZVWL0",
        "outputId": "e8b0e437-89c7-437d-b841-3e07103c3a71",
        "colab": {
          "base_uri": "https://localhost:8080/",
          "height": 567
        }
      },
      "source": [
        "# only view the bottom left corner\n",
        "print(sns.pairplot(df, corner=True))"
      ],
      "execution_count": 13,
      "outputs": [
        {
          "output_type": "stream",
          "text": [
            "<seaborn.axisgrid.PairGrid object at 0x7fac07e092b0>\n"
          ],
          "name": "stdout"
        },
        {
          "output_type": "display_data",
          "data": {
            "image/png": "[encoded data removed]",
            "text/plain": [
              "<Figure size 540x540 with 9 Axes>"
            ]
          },
          "metadata": {
            "tags": [],
            "needs_background": "light"
          }
        }
      ]
    },
    {
      "cell_type": "code",
      "metadata": {
        "id": "1Ibls6k030dR",
        "outputId": "599d8870-0118-4df3-9c85-a9af7875aa24",
        "colab": {
          "base_uri": "https://localhost:8080/"
        }
      },
      "source": [
        "# run the regression model\n",
        "X = df[['newspaper', 'radio']]\n",
        "Y = df['sales']\n",
        "model = linear_model.LinearRegression().fit(X,Y)\n",
        "print(\"Coef's:\", model.coef_)\n",
        "print('Intercept:',model.intercept_)"
      ],
      "execution_count": 20,
      "outputs": [
        {
          "output_type": "stream",
          "text": [
            "Coef's: [16.79527808 13.08068096]\n",
            "Intercept: 156.43043453198675\n"
          ],
          "name": "stdout"
        }
      ]
    },
    {
      "cell_type": "code",
      "metadata": {
        "id": "AnHfuwHEKWfU"
      },
      "source": [
        "# therefore in context,\n",
        "# sales_hat = 156.43 + 16.80*(newspaper) + 13.08*(radio)"
      ],
      "execution_count": null,
      "outputs": []
    },
    {
      "cell_type": "code",
      "metadata": {
        "id": "cgUz9OvQLOmb",
        "outputId": "f931d7bf-9c42-4797-dae0-c58e66954475",
        "colab": {
          "base_uri": "https://localhost:8080/"
        }
      },
      "source": [
        "# making predictions\n",
        "print(\"Spending 30,000 on Radio ads and 35,000 on Newspaper predicts sales of:\", model.predict([[30,35]]))\n",
        "print(\"Spending 35,000 on Radio ads and 45,000 on Newspaper predicts sales of:\", model.predict([[35,45]]))"
      ],
      "execution_count": 22,
      "outputs": [
        {
          "output_type": "stream",
          "text": [
            "Spending 30,000 on Radio ads and 35,000 on Newspaper predicts sales of: [1118.11261036]\n",
            "Spending 35,000 on Radio ads and 45,000 on Newspaper predicts sales of: [1332.89581032]\n"
          ],
          "name": "stdout"
        }
      ]
    },
    {
      "cell_type": "code",
      "metadata": {
        "id": "nQrLiyvyM75V",
        "outputId": "77f90697-973a-4582-b848-962e8e8eaa61",
        "colab": {
          "base_uri": "https://localhost:8080/"
        }
      },
      "source": [
        "# calculate R^2\n",
        "\n",
        "# storing all the predictions for the all the sizes as a variable\n",
        "sales_predictions = model.predict(df[['newspaper', 'radio']])\n",
        "\n",
        "# putting the parameters into the function\n",
        "print(metrics.r2_score(df['sales'], sales_predictions))"
      ],
      "execution_count": 27,
      "outputs": [
        {
          "output_type": "stream",
          "text": [
            "0.8086923523509826\n"
          ],
          "name": "stdout"
        }
      ]
    }
  ]
}