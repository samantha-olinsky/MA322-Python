{
  "nbformat": 4,
  "nbformat_minor": 0,
  "metadata": {
    "colab": {
      "name": "KNN-Lesson.ipynb",
      "provenance": [],
      "collapsed_sections": [],
      "authorship_tag": "ABX9TyPK2fFqvMUienHKEIeO4auM",
      "include_colab_link": true
    },
    "kernelspec": {
      "name": "python3",
      "display_name": "Python 3"
    }
  },
  "cells": [
    {
      "cell_type": "markdown",
      "metadata": {
        "id": "view-in-github",
        "colab_type": "text"
      },
      "source": [
        "<a href=\"https://colab.research.google.com/github/samantha-olinsky/MA322-Python/blob/main/KNN/KNN_Lesson.ipynb\" target=\"_parent\"><img src=\"https://colab.research.google.com/assets/colab-badge.svg\" alt=\"Open In Colab\"/></a>"
      ]
    },
    {
      "cell_type": "code",
      "metadata": {
        "id": "W2EflWMxaNA6"
      },
      "source": [
        "# importing packages we need\n",
        "import pandas as pd\n",
        "import seaborn as sns"
      ],
      "execution_count": 18,
      "outputs": []
    },
    {
      "cell_type": "code",
      "metadata": {
        "id": "pn6JWHMhdXwK",
        "outputId": "22472676-bece-4e61-bb21-12f177a75196",
        "colab": {
          "base_uri": "https://localhost:8080/"
        }
      },
      "source": [
        "# use the seaborn package to load in the iris dataset\n",
        "iris = sns.load_dataset('iris')\n",
        "\n",
        "# view the dataframe by printing\n",
        "print(iris)"
      ],
      "execution_count": 19,
      "outputs": [
        {
          "output_type": "stream",
          "text": [
            "     sepal_length  sepal_width  petal_length  petal_width    species\n",
            "0             5.1          3.5           1.4          0.2     setosa\n",
            "1             4.9          3.0           1.4          0.2     setosa\n",
            "2             4.7          3.2           1.3          0.2     setosa\n",
            "3             4.6          3.1           1.5          0.2     setosa\n",
            "4             5.0          3.6           1.4          0.2     setosa\n",
            "..            ...          ...           ...          ...        ...\n",
            "145           6.7          3.0           5.2          2.3  virginica\n",
            "146           6.3          2.5           5.0          1.9  virginica\n",
            "147           6.5          3.0           5.2          2.0  virginica\n",
            "148           6.2          3.4           5.4          2.3  virginica\n",
            "149           5.9          3.0           5.1          1.8  virginica\n",
            "\n",
            "[150 rows x 5 columns]\n"
          ],
          "name": "stdout"
        }
      ]
    },
    {
      "cell_type": "code",
      "metadata": {
        "id": "iH_nG9CQes-I"
      },
      "source": [
        "# how many examples are there in this iris dataframe?\n",
        "# how many features?\n",
        "\n",
        "# based only on the rows that were printed,\n",
        "# what assumptions can we make about the organization of the data?\n"
      ],
      "execution_count": 20,
      "outputs": []
    },
    {
      "cell_type": "code",
      "metadata": {
        "id": "9BF3b_jAZ5WY",
        "outputId": "15604451-0aa3-46d3-eaa6-d0eebc3609be",
        "colab": {
          "base_uri": "https://localhost:8080/"
        }
      },
      "source": [
        "# how can we figure out if there are other species, and their names?\n",
        "# aka, how do we view the amounts of the data by the species feature?\n",
        "\n",
        "print(pd.crosstab(index=iris['species'], columns=\"count\"))"
      ],
      "execution_count": 21,
      "outputs": [
        {
          "output_type": "stream",
          "text": [
            "col_0       count\n",
            "species          \n",
            "setosa         50\n",
            "versicolor     50\n",
            "virginica      50\n"
          ],
          "name": "stdout"
        }
      ]
    },
    {
      "cell_type": "code",
      "metadata": {
        "id": "vEbyBeNyatQr"
      },
      "source": [
        "# so now we know that there are 3 different species in our dataframe\n",
        "# 50 setosa, 50 versicolor, and 50 virginica\n",
        "# this data is VERY clean\n",
        "# REAL data is NEVER this organized\n",
        "\n",
        "# real data is CHAOTIC\n",
        "# to mimic the real world,\n",
        "# we are going to \"shuffle\" our data\n",
        "# aka randomize the order of the rows"
      ],
      "execution_count": 22,
      "outputs": []
    },
    {
      "cell_type": "code",
      "metadata": {
        "id": "G5AMp7i7a6Ho",
        "outputId": "a133b8ca-049b-4a2f-a582-0ab1b7d93dfc",
        "colab": {
          "base_uri": "https://localhost:8080/"
        }
      },
      "source": [
        "# we are using the \"sample\" method to randomly reorganize the rows\n",
        "# The frac keyword asks for the fraction of rows to return, \n",
        "# so frac=1 means return all rows (in random order)\n",
        "rand_iris = iris.sample(frac=1)\n",
        "\n",
        "# then we print it to take a look\n",
        "print(rand_iris)"
      ],
      "execution_count": 23,
      "outputs": [
        {
          "output_type": "stream",
          "text": [
            "     sepal_length  sepal_width  petal_length  petal_width     species\n",
            "127           6.1          3.0           4.9          1.8   virginica\n",
            "21            5.1          3.7           1.5          0.4      setosa\n",
            "102           7.1          3.0           5.9          2.1   virginica\n",
            "23            5.1          3.3           1.7          0.5      setosa\n",
            "47            4.6          3.2           1.4          0.2      setosa\n",
            "..            ...          ...           ...          ...         ...\n",
            "22            4.6          3.6           1.0          0.2      setosa\n",
            "78            6.0          2.9           4.5          1.5  versicolor\n",
            "24            4.8          3.4           1.9          0.2      setosa\n",
            "80            5.5          2.4           3.8          1.1  versicolor\n",
            "144           6.7          3.3           5.7          2.5   virginica\n",
            "\n",
            "[150 rows x 5 columns]\n"
          ],
          "name": "stdout"
        }
      ]
    },
    {
      "cell_type": "code",
      "metadata": {
        "id": "EBhFO_DqegxA",
        "outputId": "7ac1f981-ab2f-47a5-c2eb-31f8266404ef",
        "colab": {
          "base_uri": "https://localhost:8080/"
        }
      },
      "source": [
        "# we can use the \"describe\" method to look at info of the numeric features\n",
        "# we are interested right now in min and max\n",
        "print(rand_iris.describe())"
      ],
      "execution_count": 24,
      "outputs": [
        {
          "output_type": "stream",
          "text": [
            "       sepal_length  sepal_width  petal_length  petal_width\n",
            "count    150.000000   150.000000    150.000000   150.000000\n",
            "mean       5.843333     3.057333      3.758000     1.199333\n",
            "std        0.828066     0.435866      1.765298     0.762238\n",
            "min        4.300000     2.000000      1.000000     0.100000\n",
            "25%        5.100000     2.800000      1.600000     0.300000\n",
            "50%        5.800000     3.000000      4.350000     1.300000\n",
            "75%        6.400000     3.300000      5.100000     1.800000\n",
            "max        7.900000     4.400000      6.900000     2.500000\n"
          ],
          "name": "stdout"
        }
      ]
    },
    {
      "cell_type": "code",
      "metadata": {
        "id": "dC6QCqyegV26"
      },
      "source": [
        "# by looking at the min and max values for each feature,\n",
        "# we realize that a long sepal length,\n",
        "# is not necessarily the same value as a long petal length.\n",
        "\n",
        "# why is this important?\n",
        "\n",
        "# well the KNN algorithm uses distance as its key measurement\n",
        "# the distance between data points is not calculated on a single scale,\n",
        "# every feature has its own scale!\n",
        "\n",
        "# how do we fix this?\n",
        "# NORMALIZE the data"
      ],
      "execution_count": 25,
      "outputs": []
    },
    {
      "cell_type": "code",
      "metadata": {
        "id": "CPViC9rnEL9B",
        "outputId": "3a7cb242-1613-40de-ef5a-51923cfb60c1",
        "colab": {
          "base_uri": "https://localhost:8080/"
        }
      },
      "source": [
        "# to normalize our data, or scale it between 0 and 1,\n",
        "# we are going to create our own function\n",
        "\n",
        "# we will define the function and give it the name 'normalize'\n",
        "# it will recieve a parameter, which we'll refer to as 'df'\n",
        "def normalize(df) : \n",
        "  return (df-df.min())/(df.max()-df.min())\n",
        "# the function will return the normalized data (through this calculation)\n",
        "\n",
        "\n",
        "# now that our function is prepared,\n",
        "# we need to extract only the numeric features from out dataset,\n",
        "# because our function is mathematical, it can't deal with categorical variables\n",
        "num_iris = rand_iris[['sepal_width','sepal_length','petal_width','petal_length']]\n",
        "\n",
        "# then, using our normalize function,\n",
        "# i will pass the numeric dataframe through the function, \n",
        "# save the results in a variable called 'iris2'\n",
        "iris2 = normalize(num_iris)\n",
        "\n",
        "# how do we check our work?\n",
        "# lets print the dataframe and take a look\n",
        "print(iris2)"
      ],
      "execution_count": 26,
      "outputs": [
        {
          "output_type": "stream",
          "text": [
            "     sepal_width  sepal_length  petal_width  petal_length\n",
            "127     0.416667      0.500000     0.708333      0.661017\n",
            "21      0.708333      0.222222     0.125000      0.084746\n",
            "102     0.416667      0.777778     0.833333      0.830508\n",
            "23      0.541667      0.222222     0.166667      0.118644\n",
            "47      0.500000      0.083333     0.041667      0.067797\n",
            "..           ...           ...          ...           ...\n",
            "22      0.666667      0.083333     0.041667      0.000000\n",
            "78      0.375000      0.472222     0.583333      0.593220\n",
            "24      0.583333      0.138889     0.041667      0.152542\n",
            "80      0.166667      0.333333     0.416667      0.474576\n",
            "144     0.541667      0.666667     1.000000      0.796610\n",
            "\n",
            "[150 rows x 4 columns]\n"
          ],
          "name": "stdout"
        }
      ]
    },
    {
      "cell_type": "code",
      "metadata": {
        "id": "rpLEkx2kMcDY",
        "outputId": "7d67a205-d521-44c3-980e-140f7d9f3300",
        "colab": {
          "base_uri": "https://localhost:8080/"
        }
      },
      "source": [
        "# looks pretty good to me!\n",
        "# but just to ensure that all our values are between 1 and 0,\n",
        "# lets look at the describe function again\n",
        "print(iris2.describe())"
      ],
      "execution_count": 27,
      "outputs": [
        {
          "output_type": "stream",
          "text": [
            "       sepal_width  sepal_length  petal_width  petal_length\n",
            "count   150.000000    150.000000   150.000000    150.000000\n",
            "mean      0.440556      0.428704     0.458056      0.467458\n",
            "std       0.181611      0.230018     0.317599      0.299203\n",
            "min       0.000000      0.000000     0.000000      0.000000\n",
            "25%       0.333333      0.222222     0.083333      0.101695\n",
            "50%       0.416667      0.416667     0.500000      0.567797\n",
            "75%       0.541667      0.583333     0.708333      0.694915\n",
            "max       1.000000      1.000000     1.000000      1.000000\n"
          ],
          "name": "stdout"
        }
      ]
    },
    {
      "cell_type": "code",
      "metadata": {
        "id": "EVvlriJyMrlU"
      },
      "source": [
        "# see how all the min are 0 and the max is 1?\n",
        "# perfect! we did it! we normalized our data\n",
        "\n",
        "# now we are ready to split the data into training and testing datasets\n",
        "# for this particular KNN, we need to separate the target feature too\n",
        "# remember about 80% of data is for training, 20% for testing\n",
        "iris_train = iris2.iloc[:120]\n",
        "iris_test = iris2.iloc[121:]\n",
        "iris_train_tf = rand_iris['species'].iloc[:120] \n",
        "iris_test_tf = rand_iris['species'].iloc[121:]"
      ],
      "execution_count": 28,
      "outputs": []
    },
    {
      "cell_type": "code",
      "metadata": {
        "id": "9o0yJgfmQfLV",
        "outputId": "c343bc10-2c1b-46a3-d875-3fd31d59aa9f",
        "colab": {
          "base_uri": "https://localhost:8080/"
        }
      },
      "source": [
        "# this is our package for KNN\n",
        "from sklearn.neighbors import KNeighborsClassifier\n",
        "\n",
        "# to determine our k, or the num of neighbors,\n",
        "# roughly the square root of the total num of datapoints\n",
        "import math\n",
        "print(math.sqrt(150))"
      ],
      "execution_count": 29,
      "outputs": [
        {
          "output_type": "stream",
          "text": [
            "12.24744871391589\n"
          ],
          "name": "stdout"
        }
      ]
    },
    {
      "cell_type": "code",
      "metadata": {
        "id": "waPqybDSR4Qn"
      },
      "source": [
        "# so based on that, an acceptable k would be 11 or 13\n",
        "\n",
        "m1 = KNeighborsClassifier(n_neighbors=13).fit(iris_train, iris_train_tf)"
      ],
      "execution_count": 30,
      "outputs": []
    },
    {
      "cell_type": "code",
      "metadata": {
        "id": "D9MmWsKoPy8O",
        "outputId": "f2e0d6a3-2045-4762-e482-363bcaa576bb",
        "colab": {
          "base_uri": "https://localhost:8080/"
        }
      },
      "source": [
        "# lets see how our algorithm did\n",
        "from sklearn import metrics\n",
        "predictions = m1.predict(iris_test)\n",
        "print(metrics.confusion_matrix(iris_test_tf, predictions, labels=['setosa', 'versicolor', 'virginica']))"
      ],
      "execution_count": 31,
      "outputs": [
        {
          "output_type": "stream",
          "text": [
            "[[ 5  0  0]\n",
            " [ 0 11  1]\n",
            " [ 0  0 12]]\n"
          ],
          "name": "stdout"
        }
      ]
    },
    {
      "cell_type": "code",
      "metadata": {
        "id": "0vVXlXF1ORzm",
        "outputId": "5f3f90e8-5e59-43ba-a3e1-51f64d0a7dd2",
        "colab": {
          "base_uri": "https://localhost:8080/"
        }
      },
      "source": [
        "# adding labels to the confusion matrix\n",
        "cm_wlabel = pd.DataFrame(\n",
        "    metrics.confusion_matrix(iris_test_tf, predictions, labels=['setosa', 'versicolor', 'virginica']), \n",
        "    index=['true:setosa', 'true:versicolor', 'true:virginica'], \n",
        "    columns=['pred:setosa', 'pred:versicolor', 'pred:virginica']\n",
        ") # dont forget to close the pd.DataFrame parentheses\n",
        "print(cm_wlabel)"
      ],
      "execution_count": 32,
      "outputs": [
        {
          "output_type": "stream",
          "text": [
            "                 pred:setosa  pred:versicolor  pred:virginica\n",
            "true:setosa                5                0               0\n",
            "true:versicolor            0               11               1\n",
            "true:virginica             0                0              12\n"
          ],
          "name": "stdout"
        }
      ]
    },
    {
      "cell_type": "code",
      "metadata": {
        "id": "G3EFkDnITvj3"
      },
      "source": [
        "# so what does this mean?\n",
        "# with the labels added, we can see the rows represents the true species\n",
        "# and the columns represent the predicted \"answer\"\n",
        "# therefore, the diagonal from top left to bottom right,\n",
        "# is how many times the algorithm correctly predicted the flower species\n",
        "\n",
        "# overall, this is a pretty good outcome"
      ],
      "execution_count": 33,
      "outputs": []
    },
    {
      "cell_type": "code",
      "metadata": {
        "id": "KEhp9blpY9U5",
        "outputId": "2905823f-d2c2-4e94-ceef-fb7f6bc20235",
        "colab": {
          "base_uri": "https://localhost:8080/"
        }
      },
      "source": [
        "# now lets make some predictions for NEW, UNCLASSIFIED data\n",
        "new_sepal_width = .4\n",
        "new_sepal_length = .2\n",
        "new_petal_width = .3\n",
        "new_petal_length = .2\n",
        "\n",
        "print(m1.predict([[new_sepal_width, new_sepal_length, new_petal_width, new_petal_length]]))\n",
        "\n",
        "# try playing around and changing the lengths and widths (between 0 and 1)\n",
        "# how does it change the species result?"
      ],
      "execution_count": 34,
      "outputs": [
        {
          "output_type": "stream",
          "text": [
            "['setosa']\n"
          ],
          "name": "stdout"
        }
      ]
    }
  ]
}