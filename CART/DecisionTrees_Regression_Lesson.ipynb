{
  "nbformat": 4,
  "nbformat_minor": 0,
  "metadata": {
    "colab": {
      "name": "DecisionTrees-Regression-Lesson.ipynb",
      "provenance": [],
      "collapsed_sections": [],
      "authorship_tag": "ABX9TyMmQl3zvrJT6eaXrveYhf8C",
      "include_colab_link": true
    },
    "kernelspec": {
      "name": "python3",
      "display_name": "Python 3"
    }
  },
  "cells": [
    {
      "cell_type": "markdown",
      "metadata": {
        "id": "view-in-github",
        "colab_type": "text"
      },
      "source": [
        "<a href=\"https://colab.research.google.com/github/samantha-olinsky/MA322-Python/blob/main/CART/DecisionTrees_Regression_Lesson.ipynb\" target=\"_parent\"><img src=\"https://colab.research.google.com/assets/colab-badge.svg\" alt=\"Open In Colab\"/></a>"
      ]
    },
    {
      "cell_type": "code",
      "metadata": {
        "id": "Xqk8QmJCG9-o"
      },
      "source": [
        "# we're going to be using another typee of decision tree, REGRESSION TREES\n",
        "\n",
        "# lets install some packages first\n",
        "import pandas as pd"
      ],
      "execution_count": 3,
      "outputs": []
    },
    {
      "cell_type": "code",
      "metadata": {
        "colab": {
          "base_uri": "https://localhost:8080/"
        },
        "id": "oOOE-LrKG1Gv",
        "outputId": "68c4bb5e-c651-4bab-b3e3-2a9e2fb7a987"
      },
      "source": [
        "# and then load in our dataset\n",
        "df = pd.read_csv('https://raw.githubusercontent.com/samantha-olinsky/MA322-Python/main/CART/ames.csv')\n",
        "\n",
        "# and print to confirm\n",
        "print(df)"
      ],
      "execution_count": 4,
      "outputs": [
        {
          "output_type": "stream",
          "text": [
            "                              MS_SubClass  ...   Latitude\n",
            "0     One_Story_1946_and_Newer_All_Styles  ...  42.054035\n",
            "1     One_Story_1946_and_Newer_All_Styles  ...  42.053014\n",
            "2     One_Story_1946_and_Newer_All_Styles  ...  42.052659\n",
            "3     One_Story_1946_and_Newer_All_Styles  ...  42.051245\n",
            "4                Two_Story_1946_and_Newer  ...  42.060899\n",
            "...                                   ...  ...        ...\n",
            "2925                  Split_or_Multilevel  ...  41.988964\n",
            "2926  One_Story_1946_and_Newer_All_Styles  ...  41.988314\n",
            "2927                          Split_Foyer  ...  41.986510\n",
            "2928  One_Story_1946_and_Newer_All_Styles  ...  41.990921\n",
            "2929             Two_Story_1946_and_Newer  ...  41.989265\n",
            "\n",
            "[2930 rows x 81 columns]\n"
          ],
          "name": "stdout"
        }
      ]
    },
    {
      "cell_type": "code",
      "metadata": {
        "colab": {
          "base_uri": "https://localhost:8080/"
        },
        "id": "AaRtHeaGigPq",
        "outputId": "ac6ebd84-2786-4494-a7ea-5ab9f43a653f"
      },
      "source": [
        "# we cant really see that much of the data from that output\n",
        "# lets try some other options\n",
        "print(df.info())"
      ],
      "execution_count": 5,
      "outputs": [
        {
          "output_type": "stream",
          "text": [
            "<class 'pandas.core.frame.DataFrame'>\n",
            "RangeIndex: 2930 entries, 0 to 2929\n",
            "Data columns (total 81 columns):\n",
            " #   Column              Non-Null Count  Dtype  \n",
            "---  ------              --------------  -----  \n",
            " 0   MS_SubClass         2930 non-null   object \n",
            " 1   MS_Zoning           2930 non-null   object \n",
            " 2   Lot_Frontage        2930 non-null   int64  \n",
            " 3   Lot_Area            2930 non-null   int64  \n",
            " 4   Street              2930 non-null   object \n",
            " 5   Alley               2930 non-null   object \n",
            " 6   Lot_Shape           2930 non-null   object \n",
            " 7   Land_Contour        2930 non-null   object \n",
            " 8   Utilities           2930 non-null   object \n",
            " 9   Lot_Config          2930 non-null   object \n",
            " 10  Land_Slope          2930 non-null   object \n",
            " 11  Neighborhood        2930 non-null   object \n",
            " 12  Condition_1         2930 non-null   object \n",
            " 13  Condition_2         2930 non-null   object \n",
            " 14  Bldg_Type           2930 non-null   object \n",
            " 15  House_Style         2930 non-null   object \n",
            " 16  Overall_Qual        2930 non-null   object \n",
            " 17  Overall_Cond        2930 non-null   object \n",
            " 18  Year_Built          2930 non-null   int64  \n",
            " 19  Year_Remod_Add      2930 non-null   int64  \n",
            " 20  Roof_Style          2930 non-null   object \n",
            " 21  Roof_Matl           2930 non-null   object \n",
            " 22  Exterior_1st        2930 non-null   object \n",
            " 23  Exterior_2nd        2930 non-null   object \n",
            " 24  Mas_Vnr_Type        2930 non-null   object \n",
            " 25  Mas_Vnr_Area        2930 non-null   int64  \n",
            " 26  Exter_Qual          2930 non-null   object \n",
            " 27  Exter_Cond          2930 non-null   object \n",
            " 28  Foundation          2930 non-null   object \n",
            " 29  Bsmt_Qual           2930 non-null   object \n",
            " 30  Bsmt_Cond           2930 non-null   object \n",
            " 31  Bsmt_Exposure       2930 non-null   object \n",
            " 32  BsmtFin_Type_1      2930 non-null   object \n",
            " 33  BsmtFin_SF_1        2930 non-null   int64  \n",
            " 34  BsmtFin_Type_2      2930 non-null   object \n",
            " 35  BsmtFin_SF_2        2930 non-null   int64  \n",
            " 36  Bsmt_Unf_SF         2930 non-null   int64  \n",
            " 37  Total_Bsmt_SF       2930 non-null   int64  \n",
            " 38  Heating             2930 non-null   object \n",
            " 39  Heating_QC          2930 non-null   object \n",
            " 40  Central_Air         2930 non-null   object \n",
            " 41  Electrical          2930 non-null   object \n",
            " 42  First_Flr_SF        2930 non-null   int64  \n",
            " 43  Second_Flr_SF       2930 non-null   int64  \n",
            " 44  Low_Qual_Fin_SF     2930 non-null   int64  \n",
            " 45  Gr_Liv_Area         2930 non-null   int64  \n",
            " 46  Bsmt_Full_Bath      2930 non-null   int64  \n",
            " 47  Bsmt_Half_Bath      2930 non-null   int64  \n",
            " 48  Full_Bath           2930 non-null   int64  \n",
            " 49  Half_Bath           2930 non-null   int64  \n",
            " 50  Bedroom_AbvGr       2930 non-null   int64  \n",
            " 51  Kitchen_AbvGr       2930 non-null   int64  \n",
            " 52  Kitchen_Qual        2930 non-null   object \n",
            " 53  TotRms_AbvGrd       2930 non-null   int64  \n",
            " 54  Functional          2930 non-null   object \n",
            " 55  Fireplaces          2930 non-null   int64  \n",
            " 56  Fireplace_Qu        2930 non-null   object \n",
            " 57  Garage_Type         2930 non-null   object \n",
            " 58  Garage_Finish       2930 non-null   object \n",
            " 59  Garage_Cars         2930 non-null   int64  \n",
            " 60  Garage_Area         2930 non-null   int64  \n",
            " 61  Garage_Qual         2930 non-null   object \n",
            " 62  Garage_Cond         2930 non-null   object \n",
            " 63  Paved_Drive         2930 non-null   object \n",
            " 64  Wood_Deck_SF        2930 non-null   int64  \n",
            " 65  Open_Porch_SF       2930 non-null   int64  \n",
            " 66  Enclosed_Porch      2930 non-null   int64  \n",
            " 67  Three_season_porch  2930 non-null   int64  \n",
            " 68  Screen_Porch        2930 non-null   int64  \n",
            " 69  Pool_Area           2930 non-null   int64  \n",
            " 70  Pool_QC             2930 non-null   object \n",
            " 71  Fence               2930 non-null   object \n",
            " 72  Misc_Feature        2930 non-null   object \n",
            " 73  Misc_Val            2930 non-null   int64  \n",
            " 74  Mo_Sold             2930 non-null   int64  \n",
            " 75  Year_Sold           2930 non-null   int64  \n",
            " 76  Sale_Type           2930 non-null   object \n",
            " 77  Sale_Condition      2930 non-null   object \n",
            " 78  Sale_Price          2930 non-null   int64  \n",
            " 79  Longitude           2930 non-null   float64\n",
            " 80  Latitude            2930 non-null   float64\n",
            "dtypes: float64(2), int64(33), object(46)\n",
            "memory usage: 1.8+ MB\n",
            "None\n"
          ],
          "name": "stdout"
        }
      ]
    },
    {
      "cell_type": "code",
      "metadata": {
        "id": "ViIvvEqKiz7V"
      },
      "source": [
        "# that showed us all the column(feature) names and their data types\n",
        "\n",
        "# our goal is to predict the amount the property will sell for\n",
        "# so our target feature is Sale_Price\n",
        "# as we see above, it is an integer data type,\n",
        "# which means it is NUMERICAL / QUANTITATIVE\n",
        "# there for we will use regression trees today"
      ],
      "execution_count": null,
      "outputs": []
    },
    {
      "cell_type": "code",
      "metadata": {
        "colab": {
          "base_uri": "https://localhost:8080/"
        },
        "id": "0z7OXrpyj8zo",
        "outputId": "da4ea7a9-dff2-4ec7-ce0c-a91636714e02"
      },
      "source": [
        "# like we have doen in the past, we are going to shuffle the data\n",
        "rand_df = df.sample(frac=1)\n",
        "print(rand_df)"
      ],
      "execution_count": 6,
      "outputs": [
        {
          "output_type": "stream",
          "text": [
            "                               MS_SubClass  ...   Latitude\n",
            "2172   One_Story_1946_and_Newer_All_Styles  ...  42.020893\n",
            "1132              Two_Story_1946_and_Newer  ...  42.035271\n",
            "741   One_and_Half_Story_Finished_All_Ages  ...  42.032460\n",
            "2144   One_Story_1946_and_Newer_All_Styles  ...  42.018518\n",
            "267    One_Story_1946_and_Newer_All_Styles  ...  42.017749\n",
            "...                                    ...  ...        ...\n",
            "819    One_Story_1946_and_Newer_All_Styles  ...  42.026482\n",
            "2111              Two_Story_1946_and_Newer  ...  42.024485\n",
            "1086              Two_Story_1946_and_Newer  ...  42.059635\n",
            "126    One_Story_1946_and_Newer_All_Styles  ...  42.039211\n",
            "1452   One_Story_1946_and_Newer_All_Styles  ...  42.020991\n",
            "\n",
            "[2930 rows x 81 columns]\n"
          ],
          "name": "stdout"
        }
      ]
    },
    {
      "cell_type": "code",
      "metadata": {
        "colab": {
          "base_uri": "https://localhost:8080/"
        },
        "id": "ZSh3T7k0kSTQ",
        "outputId": "a8e85be6-1d9f-4229-9c44-a9e0c1f428e9"
      },
      "source": [
        "# now that our data is shuffled, what is our next step when using ML?\n",
        "\n",
        "# splitting the training and testing data!\n",
        "# remember about 80% of data is for training, 20% for testing\n",
        "2930*.8"
      ],
      "execution_count": 7,
      "outputs": [
        {
          "output_type": "execute_result",
          "data": {
            "text/plain": [
              "2344.0"
            ]
          },
          "metadata": {
            "tags": []
          },
          "execution_count": 7
        }
      ]
    },
    {
      "cell_type": "code",
      "metadata": {
        "id": "obcBjVfJnRt2"
      },
      "source": [
        "# the following lines split our randomized dataframe,\n",
        "# it also separates out our target feature.\n",
        "\n",
        "# the 'iloc' method used here is taking 2 arguments:\n",
        "# the first one is for the rows, \n",
        "# and the second is for the columns.\n",
        "\n",
        "# in the first slot for the rows, we can use the colon \":\" \n",
        "# to say all the rows before, or all the rows after, a certain number\n",
        "\n",
        "# to separate the target feature, \n",
        "# we only want column 78 (which we know from aboce is Sale_Price), \n",
        "# we just put the number 78\n",
        "\n",
        "# so for the training set of just the target feature,\n",
        "df_y_train = rand_df.iloc[:2344 , 78]\n",
        "\n",
        "# and for the testing set of just the target feature,\n",
        "df_y_test = rand_df.iloc[2345: , 78]\n",
        "\n",
        "# for the x values, we want all columns EXCEPT our target feature\n",
        "# we can express that using \"rand_df.columns !='Sale_Price' \"\n",
        "\n",
        "# therefor, for x_train and x_test,\n",
        "df_x_train = rand_df.iloc[:2344 , rand_df.columns !='Sale_Price']\n",
        "df_x_test = rand_df.iloc[2345: , rand_df.columns !='Sale_Price']"
      ],
      "execution_count": 15,
      "outputs": []
    },
    {
      "cell_type": "code",
      "metadata": {
        "id": "82K1RXwhvHIT"
      },
      "source": [
        "# you should check you work by priting the different dataframes,\n",
        "# and using the \"info\" method as needed \"example_df.info()\"\n",
        "\n",
        "# print(df_y_train)\n",
        "# print(df_y_test)\n",
        "# print(df_x_train)\n",
        "# print(df_x_train.info())\n",
        "# print(df_x_test)\n",
        "# print(df_x_test.info())"
      ],
      "execution_count": null,
      "outputs": []
    },
    {
      "cell_type": "code",
      "metadata": {
        "id": "EkN3_CUIrPch"
      },
      "source": [
        ""
      ],
      "execution_count": null,
      "outputs": []
    },
    {
      "cell_type": "code",
      "metadata": {
        "id": "yekcl_LFledT"
      },
      "source": [
        "from sklearn import tree"
      ],
      "execution_count": null,
      "outputs": []
    }
  ]
}