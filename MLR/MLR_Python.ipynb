{
  "nbformat": 4,
  "nbformat_minor": 0,
  "metadata": {
    "colab": {
      "name": "MLR-Python.ipynb",
      "provenance": [],
      "collapsed_sections": [],
      "authorship_tag": "ABX9TyMyX6LV84I6Y4Rr0WPZG5hT",
      "include_colab_link": true
    },
    "kernelspec": {
      "name": "python3",
      "display_name": "Python 3"
    }
  },
  "cells": [
    {
      "cell_type": "markdown",
      "metadata": {
        "id": "view-in-github",
        "colab_type": "text"
      },
      "source": [
        "<a href=\"https://colab.research.google.com/github/samantha-olinsky/MA322-Python/blob/main/MLR/MLR_Python.ipynb\" target=\"_parent\"><img src=\"https://colab.research.google.com/assets/colab-badge.svg\" alt=\"Open In Colab\"/></a>"
      ]
    },
    {
      "cell_type": "code",
      "metadata": {
        "id": "gs9uNCxin_Cz"
      },
      "source": [
        "# importing packages we need\n",
        "import pandas as pd\n",
        "import matplotlib.pyplot as plt\n",
        "from sklearn import linear_model, metrics\n",
        "from scipy import stats"
      ],
      "execution_count": 34,
      "outputs": []
    },
    {
      "cell_type": "markdown",
      "metadata": {
        "id": "EKc-PriOlLhw"
      },
      "source": [
        "### Extraction"
      ]
    },
    {
      "cell_type": "code",
      "metadata": {
        "id": "ML8kZ_iMlT_5"
      },
      "source": [
        "# if we don't wish to use all of the data in a dataframe,\n",
        "# we can EXTRACT the features we want\n",
        "\n",
        "# extraction (or subsetting) is the process of\n",
        "# taking only SOME of the data from a dataframe"
      ],
      "execution_count": 35,
      "outputs": []
    },
    {
      "cell_type": "code",
      "metadata": {
        "id": "cT9NiPdCnKqQ",
        "outputId": "2f5c1493-957b-4cf5-dd5e-09008f57a30b",
        "colab": {
          "base_uri": "https://localhost:8080/"
        }
      },
      "source": [
        "# lets take a look at the rent dataset\n",
        "\n",
        "# first we read it in\n",
        "rent_df = pd.read_csv('https://raw.githubusercontent.com/mlhwang/ma322/master/rent.csv')\n",
        "\n",
        "# then we can preview the dataframe\n",
        "print(rent_df)"
      ],
      "execution_count": 36,
      "outputs": [
        {
          "output_type": "stream",
          "text": [
            "     Unnamed: 0  rent  size\n",
            "0             1  1730  1390\n",
            "1             2  1840  1430\n",
            "2             3  1570  1380\n",
            "3             4  1720  1440\n",
            "4             5  1240   980\n",
            "..          ...   ...   ...\n",
            "995         996  1180   990\n",
            "996         997  1610  1320\n",
            "997         998  1830  1720\n",
            "998         999  1310  1230\n",
            "999        1000  1680  1280\n",
            "\n",
            "[1000 rows x 3 columns]\n"
          ],
          "name": "stdout"
        }
      ]
    },
    {
      "cell_type": "code",
      "metadata": {
        "id": "L3SLlNvjooiB",
        "outputId": "8d4c3bad-63eb-482e-911b-480fe0cd06b7",
        "colab": {
          "base_uri": "https://localhost:8080/"
        }
      },
      "source": [
        "# you may notice that unnamed feature/column\n",
        "# it is providing us with the index number of each example/row\n",
        "\n",
        "# we don't need that information\n",
        "# since Python gives us the index numbers already\n",
        "# (just off by one due to index starting at 0 instead of 1)\n",
        "\n",
        "# let's EXTRACT just the rent and size columns\n",
        "# create a new variable to store just those 2 features\n",
        "rent_df2 = rent_df[['rent', 'size']]  \n",
        "\n",
        "# Notice the double brackets \n",
        "# because it's a list WITHIN\n",
        "# a selection of a subset of the dataframe\n",
        "\n",
        "print(rent_df2)"
      ],
      "execution_count": 37,
      "outputs": [
        {
          "output_type": "stream",
          "text": [
            "     rent  size\n",
            "0    1730  1390\n",
            "1    1840  1430\n",
            "2    1570  1380\n",
            "3    1720  1440\n",
            "4    1240   980\n",
            "..    ...   ...\n",
            "995  1180   990\n",
            "996  1610  1320\n",
            "997  1830  1720\n",
            "998  1310  1230\n",
            "999  1680  1280\n",
            "\n",
            "[1000 rows x 2 columns]\n"
          ],
          "name": "stdout"
        }
      ]
    },
    {
      "cell_type": "code",
      "metadata": {
        "id": "uW3MDQEwinBf"
      },
      "source": [
        "# now, as we see, we have just 2 columns in our new dataframe"
      ],
      "execution_count": 38,
      "outputs": []
    },
    {
      "cell_type": "code",
      "metadata": {
        "id": "9fvBLe0rj1ZX"
      },
      "source": [
        "# we're going to be using the cosmetic sales dataset\n",
        "# lets bring it in\n",
        "cos = pd.read_csv('https://raw.githubusercontent.com/mlhwang/ma322/master/cosmetic_sales.csv')"
      ],
      "execution_count": 39,
      "outputs": []
    },
    {
      "cell_type": "code",
      "metadata": {
        "id": "8OymDYTqmZ3o",
        "outputId": "5c74403c-87dc-4394-9812-9523deba3667",
        "colab": {
          "base_uri": "https://localhost:8080/"
        }
      },
      "source": [
        "# lets take a look\n",
        "print(cos)"
      ],
      "execution_count": 40,
      "outputs": [
        {
          "output_type": "stream",
          "text": [
            "     salesperson  year     month  ... units_sold order_amount  cost\n",
            "0          Betsy  2004     April  ...          8          288   227\n",
            "1       Hallagan  2004     March  ...        151          448   320\n",
            "2         Ashley  2005  February  ...        416          402   347\n",
            "3       Hallagan  2006       May  ...        202          650   561\n",
            "4          Zaret  2004      June  ...        167          347   219\n",
            "...          ...   ...       ...  ...        ...          ...   ...\n",
            "1886      Ashley  2005  February  ...         95          435   281\n",
            "1887     Colleen  2005  November  ...        114          514   404\n",
            "1888       Zaret  2004   January  ...        202          659   546\n",
            "1889    Hallagan  2006  November  ...        482          410   354\n",
            "1890    Cristina  2006      June  ...        225          463   382\n",
            "\n",
            "[1891 rows x 8 columns]\n"
          ],
          "name": "stdout"
        }
      ]
    },
    {
      "cell_type": "code",
      "metadata": {
        "id": "7Cv0ZcLGnmKJ",
        "outputId": "eae3a67a-cf02-4949-f4c7-53587768b20f",
        "colab": {
          "base_uri": "https://localhost:8080/"
        }
      },
      "source": [
        "# we can't see all 8 columns from that view...\n",
        "# lets try info\n",
        "cos.info()"
      ],
      "execution_count": 41,
      "outputs": [
        {
          "output_type": "stream",
          "text": [
            "<class 'pandas.core.frame.DataFrame'>\n",
            "RangeIndex: 1891 entries, 0 to 1890\n",
            "Data columns (total 8 columns):\n",
            " #   Column        Non-Null Count  Dtype \n",
            "---  ------        --------------  ----- \n",
            " 0   salesperson   1891 non-null   object\n",
            " 1   year          1891 non-null   int64 \n",
            " 2   month         1891 non-null   object\n",
            " 3   dept          1891 non-null   object\n",
            " 4   location      1891 non-null   object\n",
            " 5   units_sold    1891 non-null   int64 \n",
            " 6   order_amount  1891 non-null   int64 \n",
            " 7   cost          1891 non-null   int64 \n",
            "dtypes: int64(4), object(4)\n",
            "memory usage: 118.3+ KB\n"
          ],
          "name": "stdout"
        }
      ]
    },
    {
      "cell_type": "code",
      "metadata": {
        "id": "gxXC4EdPulyB",
        "outputId": "2267e280-9400-4cee-c620-76140c4d3044",
        "colab": {
          "base_uri": "https://localhost:8080/"
        }
      },
      "source": [
        "# let's extract the 3 QUANTITATIVE variables\n",
        "# to veiw all the correlations among them\n",
        "cos2 = cos[['units_sold', 'order_amount', \"cost\"]]\n",
        "print(cos2)"
      ],
      "execution_count": 42,
      "outputs": [
        {
          "output_type": "stream",
          "text": [
            "      units_sold  order_amount  cost\n",
            "0              8           288   227\n",
            "1            151           448   320\n",
            "2            416           402   347\n",
            "3            202           650   561\n",
            "4            167           347   219\n",
            "...          ...           ...   ...\n",
            "1886          95           435   281\n",
            "1887         114           514   404\n",
            "1888         202           659   546\n",
            "1889         482           410   354\n",
            "1890         225           463   382\n",
            "\n",
            "[1891 rows x 3 columns]\n"
          ],
          "name": "stdout"
        }
      ]
    },
    {
      "cell_type": "markdown",
      "metadata": {
        "id": "WgG4lOmujrmb"
      },
      "source": [
        "###Correlation Matrix"
      ]
    },
    {
      "cell_type": "code",
      "metadata": {
        "id": "Ppxc7f-d0LMO",
        "outputId": "ae0061da-5524-48a1-e2b0-f5bd6d5a4fd8",
        "colab": {
          "base_uri": "https://localhost:8080/"
        }
      },
      "source": [
        "# now inorder to see all the correlations\n",
        "# we are going to create a CORRELATION MATRIX\n",
        "# use a \n",
        "print(cos2.corr())"
      ],
      "execution_count": 43,
      "outputs": [
        {
          "output_type": "stream",
          "text": [
            "              units_sold  order_amount      cost\n",
            "units_sold      1.000000      0.422342  0.442345\n",
            "order_amount    0.422342      1.000000  0.948035\n",
            "cost            0.442345      0.948035  1.000000\n"
          ],
          "name": "stdout"
        }
      ]
    },
    {
      "cell_type": "markdown",
      "metadata": {
        "id": "4Ev0YG2H2dra"
      },
      "source": [
        "###Scatterplot Matrix"
      ]
    },
    {
      "cell_type": "code",
      "metadata": {
        "id": "RKotTPoZ2bKU",
        "outputId": "9950f2e7-e865-4380-e381-6510c4696789",
        "colab": {
          "base_uri": "https://localhost:8080/",
          "height": 567
        }
      },
      "source": [
        "# to visualize all of the scatterplots in a matrix,\n",
        "# we're going to import another package\n",
        "import seaborn as sns\n",
        "\n",
        "# from seaborn (sns) were using the pairplot method\n",
        "print(sns.pairplot(cos2))\n",
        "\n",
        "# to focus on just the lower left corner,\n",
        "# aka remove the duploicates\n",
        "# print(sns.pairplot(cos2, corner=True))\n",
        "\n",
        "# this function also provides histograms as the diagonals\n",
        "# if you want to remove them as well,\n",
        "# print(sns.pairplot(cos2, corner=True, diag_kind='none'))"
      ],
      "execution_count": 48,
      "outputs": [
        {
          "output_type": "stream",
          "text": [
            "<seaborn.axisgrid.PairGrid object at 0x7f405e47a8d0>\n"
          ],
          "name": "stdout"
        },
        {
          "output_type": "display_data",
          "data": {
            "image/png": "[encoded data removed]",
            "text/plain": [
              "<Figure size 540x540 with 12 Axes>"
            ]
          },
          "metadata": {
            "tags": [],
            "needs_background": "light"
          }
        }
      ]
    },
    {
      "cell_type": "markdown",
      "metadata": {
        "id": "sflqcD7QkzQq"
      },
      "source": [
        "### *Multiple* Linear Regression: **MLR**"
      ]
    },
    {
      "cell_type": "code",
      "metadata": {
        "id": "thu_iAcXlJn5",
        "outputId": "7d6ff770-82b0-4b86-de1b-2e98386242f2",
        "colab": {
          "base_uri": "https://localhost:8080/"
        }
      },
      "source": [
        "pies = pd.read_csv('https://raw.githubusercontent.com/mlhwang/ma322/master/piesales.csv')\n",
        "print(pies)"
      ],
      "execution_count": 50,
      "outputs": [
        {
          "output_type": "stream",
          "text": [
            "    Pie_Sales  Price  Advertising Holiday\n",
            "0         350    5.5          3.3      no\n",
            "1         460    7.5          3.3     yes\n",
            "2         350    8.0          3.0      no\n",
            "3         430    8.0          4.5     yes\n",
            "4         350    6.8          3.0      no\n",
            "5         380    7.5          4.0      no\n",
            "6         430    4.5          3.0      no\n",
            "7         470    6.4          3.7     yes\n",
            "8         450    7.0          3.5     yes\n",
            "9         490    5.0          4.0     yes\n",
            "10        340    7.2          3.5      no\n",
            "11        300    7.9          3.2      no\n",
            "12        440    5.9          4.0     yes\n",
            "13        450    5.0          3.5     yes\n",
            "14        300    7.0          2.7      no\n"
          ],
          "name": "stdout"
        }
      ]
    },
    {
      "cell_type": "code",
      "metadata": {
        "id": "z9TXjqXI5_9p",
        "outputId": "099f2a9c-ee51-49df-ba26-bcc8162c4230",
        "colab": {
          "base_uri": "https://localhost:8080/"
        }
      },
      "source": [
        "# so for our MULTIPLE linear regression\n",
        "# were going to be using more than 1 independent variable\n",
        "X = pies[['Price', 'Advertising']]\n",
        "# notice the double brackets?\n",
        "# list WITHIN a selection\n",
        "\n",
        "# and lets set our dependent var/target feature\n",
        "Y = pies['Pie_Sales']\n",
        "\n",
        "# fit the model\n",
        "model = linear_model.LinearRegression().fit(X,Y)\n",
        "\n",
        "print('Intercept:',model.intercept_)\n",
        "print(\"Coef's:\", model.coef_)"
      ],
      "execution_count": 52,
      "outputs": [
        {
          "output_type": "stream",
          "text": [
            "Intercept: 306.5261932837436\n",
            "Coef's: [-24.97508952  74.13095749]\n"
          ],
          "name": "stdout"
        }
      ]
    },
    {
      "cell_type": "markdown",
      "metadata": {
        "id": "WqJ2Bttf7Vjy"
      },
      "source": [
        "**So:**\n",
        "\n",
        "Pie_Sales<sub>hat</sub> = 306.526 – 24.975(Price) + 74.131(Advertising)"
      ]
    },
    {
      "cell_type": "code",
      "metadata": {
        "id": "Bz5MRq118seD",
        "outputId": "2d85a739-8d5b-45ee-fdf1-1f7be8708890",
        "colab": {
          "base_uri": "https://localhost:8080/"
        }
      },
      "source": [
        "# lets make predictions!!!\n",
        "print(\"Pie price of $5.50, and advertising of $350, predicts pie sales of:\", model.predict([[5.5,3.5]]))\n",
        "print(\"Pie price of $6.00, and advertising of $320, predicts pie sales of:\", model.predict([[6,3.2]]))"
      ],
      "execution_count": 55,
      "outputs": [
        {
          "output_type": "stream",
          "text": [
            "Pie price of $5.50, and advertising of $350, predicts pie sales of: [428.62155215]\n",
            "Pie price of $6.00, and advertising of $320, predicts pie sales of: [393.89472014]\n"
          ],
          "name": "stdout"
        }
      ]
    },
    {
      "cell_type": "code",
      "metadata": {
        "id": "t_vL3yW29_G3",
        "outputId": "f9c0a09b-15d1-4ace-9eb1-f4955e205d10",
        "colab": {
          "base_uri": "https://localhost:8080/"
        }
      },
      "source": [
        "# calculating R^2\n",
        "\n",
        "# let's store all the predictions, using the actual data, as a variable\n",
        "pie_sales_predictions = model.predict(pies[['Price', 'Advertising']])\n",
        "\n",
        "# putting the parameters into the function\n",
        "print(metrics.r2_score(pies['Pie_Sales'], pie_sales_predictions))"
      ],
      "execution_count": 56,
      "outputs": [
        {
          "output_type": "stream",
          "text": [
            "0.5214779360292288\n"
          ],
          "name": "stdout"
        }
      ]
    },
    {
      "cell_type": "markdown",
      "metadata": {
        "id": "73vPazDFPy2t"
      },
      "source": [
        "### **Additional MLR Example:** Sales, Radio, and Newspaper Ads"
      ]
    },
    {
      "cell_type": "code",
      "metadata": {
        "id": "z8f6MoYkPyV3"
      },
      "source": [
        "# load in the dataset to a dataframe\n",
        "df = pd.read_csv('https://docs.google.com/spreadsheets/d/e/2PACX-1vT_oNaK_QKTtFQYdh7Pl17_prektSRuDVwRD71Vo8daBd0biyeG-Oiic4dMN_EL--voDWHAc5MmXNYH/pub?gid=0&single=true&output=csv')"
      ],
      "execution_count": null,
      "outputs": []
    },
    {
      "cell_type": "code",
      "metadata": {
        "id": "xNJtm4sfQmHN"
      },
      "source": [
        "print(df)"
      ],
      "execution_count": null,
      "outputs": []
    },
    {
      "cell_type": "markdown",
      "metadata": {
        "id": "CCUx7_HiQa0D"
      },
      "source": [
        "As a result of the above, the dataframe `df` has the `sales`, `radio`, and\n",
        "`newspaper` Ads data loaded in."
      ]
    },
    {
      "cell_type": "markdown",
      "metadata": {
        "id": "yd-CSuP-RQHG"
      },
      "source": [
        "Lets look at the correlation coefficient, r , and the scatterplot for Newspaper and Sales.\n"
      ]
    },
    {
      "cell_type": "code",
      "metadata": {
        "id": "2zss2gtRRE0J"
      },
      "source": [
        "# calculate the correlation coefficient, r , (and the p-value)\n",
        "print(stats.pearsonr(df['newspaper'], df['sales']))"
      ],
      "execution_count": null,
      "outputs": []
    },
    {
      "cell_type": "code",
      "metadata": {
        "id": "bHV9VbRORvra"
      },
      "source": [
        "# labeled scatterplot\n",
        "plt.scatter(df['newspaper'], df['sales'])\n",
        "plt.xlabel(\"Newspaper Ad Spending ($000)\")\n",
        "plt.ylabel(\"Sales in Dollars ($000)\")\n",
        "plt.title(\"Newspaper Expenditures and Sales\")"
      ],
      "execution_count": null,
      "outputs": []
    },
    {
      "cell_type": "markdown",
      "metadata": {
        "id": "nlC7no-xTl4-"
      },
      "source": [
        "Now lets look at the correlation coefficient, r , and the scatter plot for ***Radio*** and Sales.\n"
      ]
    },
    {
      "cell_type": "code",
      "metadata": {
        "id": "l-3-IxyzUSfS"
      },
      "source": [
        "# calculate the correlation coefficient, r , (and the p-value)\n",
        "print(stats.pearsonr(df['radio'], df['sales']))"
      ],
      "execution_count": null,
      "outputs": []
    },
    {
      "cell_type": "code",
      "metadata": {
        "id": "f9n0DrsVUW_w"
      },
      "source": [
        "# labeled scatterplot\n",
        "plt.scatter(df['radio'], df['sales'])\n",
        "plt.xlabel(\"Radio Ad Spending ($000)\")\n",
        "plt.ylabel(\"Sales in Dollars ($000)\")\n",
        "plt.title(\"Radio Ad Expenditures and Sales\")"
      ],
      "execution_count": null,
      "outputs": []
    },
    {
      "cell_type": "code",
      "metadata": {
        "id": "tO3u6yWgU6AQ"
      },
      "source": [
        "# correlation matrix\n",
        "print(df.corr())"
      ],
      "execution_count": null,
      "outputs": []
    },
    {
      "cell_type": "code",
      "metadata": {
        "id": "MBIZm6GGXQs1"
      },
      "source": [
        "# scatterplot matrix\n",
        "import seaborn as sns\n",
        "print(sns.pairplot(df))"
      ],
      "execution_count": null,
      "outputs": []
    },
    {
      "cell_type": "code",
      "metadata": {
        "id": "7FU5NviZVWL0"
      },
      "source": [
        "# only view the bottom left corner\n",
        "print(sns.pairplot(df, corner=True))"
      ],
      "execution_count": null,
      "outputs": []
    },
    {
      "cell_type": "code",
      "metadata": {
        "id": "1Ibls6k030dR"
      },
      "source": [
        "# run the regression model\n",
        "X = df[['newspaper', 'radio']]\n",
        "Y = df['sales']\n",
        "model = linear_model.LinearRegression().fit(X,Y)\n",
        "\n",
        "print('Intercept:',model.intercept_)\n",
        "print(\"Coef's:\", model.coef_)"
      ],
      "execution_count": null,
      "outputs": []
    },
    {
      "cell_type": "code",
      "metadata": {
        "id": "AnHfuwHEKWfU"
      },
      "source": [
        "# therefore in context,\n",
        "# sales_hat = 156.43 + 16.80*(newspaper) + 13.08*(radio)"
      ],
      "execution_count": null,
      "outputs": []
    },
    {
      "cell_type": "code",
      "metadata": {
        "id": "cgUz9OvQLOmb"
      },
      "source": [
        "# making predictions\n",
        "print(\"Spending 30,000 on Radio ads and 35,000 on Newspaper predicts sales of:\", model.predict([[30,35]]))\n",
        "print(\"Spending 35,000 on Radio ads and 45,000 on Newspaper predicts sales of:\", model.predict([[35,45]]))"
      ],
      "execution_count": null,
      "outputs": []
    },
    {
      "cell_type": "code",
      "metadata": {
        "id": "nQrLiyvyM75V"
      },
      "source": [
        "# calculate R^2\n",
        "\n",
        "# storing all the predictions for the all the sizes as a variable\n",
        "sales_predictions = model.predict(df[['newspaper', 'radio']])\n",
        "\n",
        "# putting the parameters into the function\n",
        "print(metrics.r2_score(df['sales'], sales_predictions))"
      ],
      "execution_count": null,
      "outputs": []
    }
  ]
}