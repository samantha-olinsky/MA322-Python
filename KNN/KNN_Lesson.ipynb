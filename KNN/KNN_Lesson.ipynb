{
  "nbformat": 4,
  "nbformat_minor": 0,
  "metadata": {
    "colab": {
      "name": "KNN-Lesson.ipynb",
      "provenance": [],
      "collapsed_sections": [],
      "authorship_tag": "ABX9TyOqZCtLtzz/Vtk9lyM0ELIL",
      "include_colab_link": true
    },
    "kernelspec": {
      "name": "python3",
      "display_name": "Python 3"
    }
  },
  "cells": [
    {
      "cell_type": "markdown",
      "metadata": {
        "id": "view-in-github",
        "colab_type": "text"
      },
      "source": [
        "<a href=\"https://colab.research.google.com/github/samantha-olinsky/MA322-Python/blob/main/KNN/KNN_Lesson.ipynb\" target=\"_parent\"><img src=\"https://colab.research.google.com/assets/colab-badge.svg\" alt=\"Open In Colab\"/></a>"
      ]
    },
    {
      "cell_type": "code",
      "metadata": {
        "id": "W2EflWMxaNA6"
      },
      "source": [
        "# importing packages we need\n",
        "import pandas as pd\n",
        "import seaborn as sns"
      ],
      "execution_count": 2,
      "outputs": []
    },
    {
      "cell_type": "code",
      "metadata": {
        "id": "pn6JWHMhdXwK",
        "outputId": "5b99802c-b9f7-4751-ac08-11e3707e4c20",
        "colab": {
          "base_uri": "https://localhost:8080/"
        }
      },
      "source": [
        "# use the seaborn package to load in the iris dataset\n",
        "iris = sns.load_dataset('iris')\n",
        "\n",
        "# view the dataframe by printing\n",
        "print(iris)"
      ],
      "execution_count": 3,
      "outputs": [
        {
          "output_type": "stream",
          "text": [
            "     sepal_length  sepal_width  petal_length  petal_width    species\n",
            "0             5.1          3.5           1.4          0.2     setosa\n",
            "1             4.9          3.0           1.4          0.2     setosa\n",
            "2             4.7          3.2           1.3          0.2     setosa\n",
            "3             4.6          3.1           1.5          0.2     setosa\n",
            "4             5.0          3.6           1.4          0.2     setosa\n",
            "..            ...          ...           ...          ...        ...\n",
            "145           6.7          3.0           5.2          2.3  virginica\n",
            "146           6.3          2.5           5.0          1.9  virginica\n",
            "147           6.5          3.0           5.2          2.0  virginica\n",
            "148           6.2          3.4           5.4          2.3  virginica\n",
            "149           5.9          3.0           5.1          1.8  virginica\n",
            "\n",
            "[150 rows x 5 columns]\n"
          ],
          "name": "stdout"
        }
      ]
    },
    {
      "cell_type": "code",
      "metadata": {
        "id": "iH_nG9CQes-I"
      },
      "source": [
        "# how many examples are there in this iris dataframe?\n",
        "# how many features?\n",
        "\n",
        "# based only on the rows that were printed,\n",
        "# what assumptions can we make about the organization of the data?\n"
      ],
      "execution_count": 4,
      "outputs": []
    },
    {
      "cell_type": "code",
      "metadata": {
        "id": "9BF3b_jAZ5WY",
        "outputId": "049659b7-ecef-408d-8ab5-6f35410a3630",
        "colab": {
          "base_uri": "https://localhost:8080/"
        }
      },
      "source": [
        "# how can we figure out if there are other species, and their names?\n",
        "# aka, how do we view the amounts of the data by the species feature?\n",
        "\n",
        "print(pd.crosstab(index=iris['species'], columns=\"count\"))"
      ],
      "execution_count": 5,
      "outputs": [
        {
          "output_type": "stream",
          "text": [
            "col_0       count\n",
            "species          \n",
            "setosa         50\n",
            "versicolor     50\n",
            "virginica      50\n"
          ],
          "name": "stdout"
        }
      ]
    },
    {
      "cell_type": "code",
      "metadata": {
        "id": "vEbyBeNyatQr"
      },
      "source": [
        "# so now we know that there are 3 different species in our dataframe\n",
        "# 50 setosa, 50 versicolor, and 50 virginica\n",
        "# this data is VERY clean\n",
        "# REAL data is NEVER this organized\n",
        "\n",
        "# real data is CHAOTIC\n",
        "# to mimic the real world,\n",
        "# we are going to \"shuffle\" our data\n",
        "# aka randomize the order of the rows"
      ],
      "execution_count": 6,
      "outputs": []
    },
    {
      "cell_type": "code",
      "metadata": {
        "id": "G5AMp7i7a6Ho",
        "outputId": "d18d5c51-60da-40bd-84f8-534e7b94ad0c",
        "colab": {
          "base_uri": "https://localhost:8080/"
        }
      },
      "source": [
        "# we are using the \"sample\" method to randomly reorganize the rows\n",
        "# The frac keyword asks for the fraction of rows to return, \n",
        "# so frac=1 means return all rows (in random order)\n",
        "rand_iris = iris.sample(frac=1)\n",
        "\n",
        "# then we print it to take a look\n",
        "print(rand_iris)"
      ],
      "execution_count": 7,
      "outputs": [
        {
          "output_type": "stream",
          "text": [
            "     sepal_length  sepal_width  petal_length  petal_width     species\n",
            "127           6.1          3.0           4.9          1.8   virginica\n",
            "99            5.7          2.8           4.1          1.3  versicolor\n",
            "111           6.4          2.7           5.3          1.9   virginica\n",
            "138           6.0          3.0           4.8          1.8   virginica\n",
            "84            5.4          3.0           4.5          1.5  versicolor\n",
            "..            ...          ...           ...          ...         ...\n",
            "30            4.8          3.1           1.6          0.2      setosa\n",
            "129           7.2          3.0           5.8          1.6   virginica\n",
            "64            5.6          2.9           3.6          1.3  versicolor\n",
            "36            5.5          3.5           1.3          0.2      setosa\n",
            "67            5.8          2.7           4.1          1.0  versicolor\n",
            "\n",
            "[150 rows x 5 columns]\n"
          ],
          "name": "stdout"
        }
      ]
    },
    {
      "cell_type": "code",
      "metadata": {
        "id": "EBhFO_DqegxA",
        "outputId": "e39483cc-29f7-4132-d5ee-9aefb7732223",
        "colab": {
          "base_uri": "https://localhost:8080/"
        }
      },
      "source": [
        "# we can use the \"describe\" method to look at info of the numeric features\n",
        "# we are interested right now in min and max\n",
        "print(rand_iris.describe())"
      ],
      "execution_count": 8,
      "outputs": [
        {
          "output_type": "stream",
          "text": [
            "       sepal_length  sepal_width  petal_length  petal_width\n",
            "count    150.000000   150.000000    150.000000   150.000000\n",
            "mean       5.843333     3.057333      3.758000     1.199333\n",
            "std        0.828066     0.435866      1.765298     0.762238\n",
            "min        4.300000     2.000000      1.000000     0.100000\n",
            "25%        5.100000     2.800000      1.600000     0.300000\n",
            "50%        5.800000     3.000000      4.350000     1.300000\n",
            "75%        6.400000     3.300000      5.100000     1.800000\n",
            "max        7.900000     4.400000      6.900000     2.500000\n"
          ],
          "name": "stdout"
        }
      ]
    },
    {
      "cell_type": "code",
      "metadata": {
        "id": "dC6QCqyegV26"
      },
      "source": [
        "# by looking at the min and max values for each feature,\n",
        "# we realize that a long sepal length,\n",
        "# is not necessarily the same value as a long petal length.\n",
        "\n",
        "# why is this important?\n",
        "\n",
        "# well the KNN algorithm uses distance as its key measurement\n",
        "# the distance between data points is not calculated on a single scale,\n",
        "# every feature has its own scale!\n",
        "\n",
        "# how do we fix this?\n",
        "# NORMALIZE the data"
      ],
      "execution_count": 9,
      "outputs": []
    },
    {
      "cell_type": "code",
      "metadata": {
        "id": "CPViC9rnEL9B",
        "outputId": "a747451c-d643-4248-f495-ffec9bec78fe",
        "colab": {
          "base_uri": "https://localhost:8080/"
        }
      },
      "source": [
        "# to normalize our data, or scale it between 0 and 1,\n",
        "# we are going to create our own function\n",
        "\n",
        "# we will define the function and give it the name 'normalize'\n",
        "# it will recieve a parameter, which we'll refer to as 'df'\n",
        "def normalize(df) : \n",
        "  return (df-df.min())/(df.max()-df.min())\n",
        "# the function will return the normalized data (through this calculation)\n",
        "\n",
        "\n",
        "# now that our function is prepared,\n",
        "# we need to extract only the numeric features from out dataset,\n",
        "# because our function is mathematical, it can't deal with categorical variables\n",
        "num_iris = rand_iris[['sepal_width','sepal_length','petal_width','petal_length']]\n",
        "\n",
        "# then, using our normalize function,\n",
        "# i will pass the numeric dataframe through the function, \n",
        "# save the results in a variable called 'iris2'\n",
        "iris2 = normalize(num_iris)\n",
        "\n",
        "# how do we check our work?\n",
        "# lets print the dataframe and take a look\n",
        "print(iris2)"
      ],
      "execution_count": 10,
      "outputs": [
        {
          "output_type": "stream",
          "text": [
            "     sepal_width  sepal_length  petal_width  petal_length\n",
            "127     0.416667      0.500000     0.708333      0.661017\n",
            "99      0.333333      0.388889     0.500000      0.525424\n",
            "111     0.291667      0.583333     0.750000      0.728814\n",
            "138     0.416667      0.472222     0.708333      0.644068\n",
            "84      0.416667      0.305556     0.583333      0.593220\n",
            "..           ...           ...          ...           ...\n",
            "30      0.458333      0.138889     0.041667      0.101695\n",
            "129     0.416667      0.805556     0.625000      0.813559\n",
            "64      0.375000      0.361111     0.500000      0.440678\n",
            "36      0.625000      0.333333     0.041667      0.050847\n",
            "67      0.291667      0.416667     0.375000      0.525424\n",
            "\n",
            "[150 rows x 4 columns]\n"
          ],
          "name": "stdout"
        }
      ]
    },
    {
      "cell_type": "code",
      "metadata": {
        "id": "rpLEkx2kMcDY",
        "outputId": "e8a4fabc-1f01-4e39-b823-1ff722ff6c33",
        "colab": {
          "base_uri": "https://localhost:8080/"
        }
      },
      "source": [
        "# looks pretty good to me!\n",
        "# but just to ensure that all our values are between 1 and 0,\n",
        "# lets look at the describe function again\n",
        "print(iris2.describe())"
      ],
      "execution_count": 11,
      "outputs": [
        {
          "output_type": "stream",
          "text": [
            "       sepal_width  sepal_length  petal_width  petal_length\n",
            "count   150.000000    150.000000   150.000000    150.000000\n",
            "mean      0.440556      0.428704     0.458056      0.467458\n",
            "std       0.181611      0.230018     0.317599      0.299203\n",
            "min       0.000000      0.000000     0.000000      0.000000\n",
            "25%       0.333333      0.222222     0.083333      0.101695\n",
            "50%       0.416667      0.416667     0.500000      0.567797\n",
            "75%       0.541667      0.583333     0.708333      0.694915\n",
            "max       1.000000      1.000000     1.000000      1.000000\n"
          ],
          "name": "stdout"
        }
      ]
    },
    {
      "cell_type": "code",
      "metadata": {
        "id": "EVvlriJyMrlU"
      },
      "source": [
        "# see how all the min are 0 and the max is 1?\n",
        "# perfect! we did it! we normalized our data\n",
        "\n",
        "# now we are ready to split the data into training and testing datasets\n",
        "# for this particular KNN, we need to separate the target feature too\n",
        "# remember about 80% of data is for training, 20% for testing\n",
        "iris_train = iris2.iloc[:120,]\n",
        "iris_test = iris2.iloc[121:,]\n",
        "iris_train_tf = rand_iris['species'].iloc[:120,] \n",
        "iris_test_tf = rand_iris['species'].iloc[121:,]"
      ],
      "execution_count": 23,
      "outputs": []
    },
    {
      "cell_type": "code",
      "metadata": {
        "id": "AP2JnTsYTsvd"
      },
      "source": [
        "# need to encode the classification \n"
      ],
      "execution_count": 17,
      "outputs": []
    },
    {
      "cell_type": "code",
      "metadata": {
        "id": "9o0yJgfmQfLV",
        "outputId": "0a7898e4-bde5-4d5e-83d4-b1d5b3d4ce7d",
        "colab": {
          "base_uri": "https://localhost:8080/"
        }
      },
      "source": [
        "# this is our package for KNN\n",
        "from sklearn.neighbors import KNeighborsClassifier\n",
        "\n",
        "# to determine our k, or the num of neighbors,\n",
        "# roughly the square root of the total num of datapoints\n",
        "import math\n",
        "print(math.sqrt(150))"
      ],
      "execution_count": 14,
      "outputs": [
        {
          "output_type": "stream",
          "text": [
            "12.24744871391589\n"
          ],
          "name": "stdout"
        }
      ]
    },
    {
      "cell_type": "code",
      "metadata": {
        "id": "waPqybDSR4Qn"
      },
      "source": [
        "# so based on that, an acceptable k would be 11 or 13\n",
        "\n",
        "m1 = KNeighborsClassifier(n_neighbors=13).fit(iris_train, iris_train_tf)"
      ],
      "execution_count": 21,
      "outputs": []
    },
    {
      "cell_type": "code",
      "metadata": {
        "id": "D9MmWsKoPy8O",
        "outputId": "79df0960-32f1-477f-e832-8592341443b0",
        "colab": {
          "base_uri": "https://localhost:8080/"
        }
      },
      "source": [
        "# lets see how our algorithm did\n",
        "from sklearn import metrics\n",
        "predictions = m1.predict(iris_test)\n",
        "print(metrics.confusion_matrix(iris_test_tf, predictions, labels=['setosa', 'versicolor', 'virginica']))"
      ],
      "execution_count": 33,
      "outputs": [
        {
          "output_type": "stream",
          "text": [
            "[[12  0  0]\n",
            " [ 0  8  0]\n",
            " [ 0  1  8]]\n"
          ],
          "name": "stdout"
        }
      ]
    },
    {
      "cell_type": "code",
      "metadata": {
        "id": "G3EFkDnITvj3"
      },
      "source": [
        "# so what does this mean?\n",
        "# the matrix, with labels would look like this:\n",
        "\n",
        "#  predictions    setosa    versicolor   viriginica   < iris_test_tf\n",
        "#       setosa      12           0            0\n",
        "#   versicolor      0            8            0\n",
        "#    virginica      0            1            8\n",
        "\n",
        "# with the labels added, we can see the rows represents the preditions\n",
        "# and the columns represent the actual \"answer\"\n",
        "# therefore, the diagonal from top left to bottom right,\n",
        "# is how many times the algorithm correctly predicted the flower species\n",
        "\n",
        "# for this particular example, the algorithm predicted incorrectly 1 time\n",
        "# it thought it was virginica, but it was actually versicolor\n",
        "\n",
        "# overall, this is a pretty good outcome"
      ],
      "execution_count": null,
      "outputs": []
    },
    {
      "cell_type": "code",
      "metadata": {
        "id": "KEhp9blpY9U5",
        "outputId": "91a41950-50d3-4c3d-a262-23c9f7835a06",
        "colab": {
          "base_uri": "https://localhost:8080/"
        }
      },
      "source": [
        "# now lets make some predictions for NEW, UNCLASSIFIED data\n",
        "new_sepal_width = .4\n",
        "new_sepal_length = .2\n",
        "new_petal_width = .3\n",
        "new_petal_length = .2\n",
        "\n",
        "print(m1.predict([[new_sepal_width, new_sepal_length, new_petal_width, new_petal_length]]))\n",
        "\n",
        "# try playing around and changing the lengths and widths (between 0 and 1)\n",
        "# how does it change the species result?"
      ],
      "execution_count": 57,
      "outputs": [
        {
          "output_type": "stream",
          "text": [
            "['setosa']\n"
          ],
          "name": "stdout"
        }
      ]
    }
  ]
}